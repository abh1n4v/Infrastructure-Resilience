{
 "cells": [
  {
   "cell_type": "code",
   "execution_count": 24,
   "metadata": {},
   "outputs": [],
   "source": [
    "import snscrape.modules.twitter as sntwitter\n",
    "import pandas as pd\n",
    "import itertools"
   ]
  },
  {
   "cell_type": "code",
   "execution_count": 25,
   "metadata": {},
   "outputs": [],
   "source": [
    "tweet_df = pd.DataFrame(itertools.islice(sntwitter.TwitterSearchScraper('#KeralaFloods OR #OpMadad since:2018-08-08 until:2018-08-19').get_items(),10000))"
   ]
  },
  {
   "cell_type": "code",
   "execution_count": null,
   "metadata": {},
   "outputs": [],
   "source": [
    "tweet_df.columns"
   ]
  },
  {
   "cell_type": "code",
   "execution_count": 26,
   "metadata": {},
   "outputs": [],
   "source": [
    "col_list = ['date', 'rawContent', 'user','lang','place','hashtags','likeCount','retweetCount']\n",
    "tweet_df = tweet_df[col_list]"
   ]
  },
  {
   "cell_type": "code",
   "execution_count": 27,
   "metadata": {},
   "outputs": [
    {
     "data": {
      "text/plain": [
       "Index(['date', 'rawContent', 'user', 'lang', 'place', 'hashtags', 'likeCount',\n",
       "       'retweetCount'],\n",
       "      dtype='object')"
      ]
     },
     "execution_count": 27,
     "metadata": {},
     "output_type": "execute_result"
    }
   ],
   "source": [
    "tweet_df.columns"
   ]
  },
  {
   "cell_type": "code",
   "execution_count": 28,
   "metadata": {},
   "outputs": [
    {
     "data": {
      "text/html": [
       "<div>\n",
       "<style scoped>\n",
       "    .dataframe tbody tr th:only-of-type {\n",
       "        vertical-align: middle;\n",
       "    }\n",
       "\n",
       "    .dataframe tbody tr th {\n",
       "        vertical-align: top;\n",
       "    }\n",
       "\n",
       "    .dataframe thead th {\n",
       "        text-align: right;\n",
       "    }\n",
       "</style>\n",
       "<table border=\"1\" class=\"dataframe\">\n",
       "  <thead>\n",
       "    <tr style=\"text-align: right;\">\n",
       "      <th></th>\n",
       "      <th>date</th>\n",
       "      <th>rawContent</th>\n",
       "      <th>user</th>\n",
       "      <th>lang</th>\n",
       "      <th>place</th>\n",
       "      <th>hashtags</th>\n",
       "      <th>likeCount</th>\n",
       "      <th>retweetCount</th>\n",
       "    </tr>\n",
       "  </thead>\n",
       "  <tbody>\n",
       "    <tr>\n",
       "      <th>0</th>\n",
       "      <td>2018-08-18 23:59:50+00:00</td>\n",
       "      <td>@IndiaCoastGuard rescued a 10day old baby and ...</td>\n",
       "      <td>{'username': 'Hari_offcl', 'id': 9023886736137...</td>\n",
       "      <td>en</td>\n",
       "      <td>None</td>\n",
       "      <td>[KeralaFloods]</td>\n",
       "      <td>1</td>\n",
       "      <td>0</td>\n",
       "    </tr>\n",
       "    <tr>\n",
       "      <th>1</th>\n",
       "      <td>2018-08-18 23:59:40+00:00</td>\n",
       "      <td>Kindly exempt relief materials addressed to St...</td>\n",
       "      <td>{'username': 'AswathyJayasree', 'id': 71070962...</td>\n",
       "      <td>en</td>\n",
       "      <td>None</td>\n",
       "      <td>[KeralaFloods]</td>\n",
       "      <td>0</td>\n",
       "      <td>0</td>\n",
       "    </tr>\n",
       "    <tr>\n",
       "      <th>2</th>\n",
       "      <td>2018-08-18 23:59:33+00:00</td>\n",
       "      <td>IMPORTANT INFO: Life Jackets avaiable @ALUVA f...</td>\n",
       "      <td>{'username': 'JayGooner_', 'id': 52633979, 'di...</td>\n",
       "      <td>en</td>\n",
       "      <td>None</td>\n",
       "      <td>[Rescue, verified, KeralaFloods, KeralaFloodRe...</td>\n",
       "      <td>2</td>\n",
       "      <td>1</td>\n",
       "    </tr>\n",
       "    <tr>\n",
       "      <th>3</th>\n",
       "      <td>2018-08-18 23:59:33+00:00</td>\n",
       "      <td>@CBSNews #keralafloods #KeralaFloodRelief #Ker...</td>\n",
       "      <td>{'username': 'arunima_vp', 'id': 8546095937748...</td>\n",
       "      <td>qme</td>\n",
       "      <td>None</td>\n",
       "      <td>[keralafloods, KeralaFloodRelief, KeralaFlood,...</td>\n",
       "      <td>0</td>\n",
       "      <td>0</td>\n",
       "    </tr>\n",
       "    <tr>\n",
       "      <th>4</th>\n",
       "      <td>2018-08-18 23:59:32+00:00</td>\n",
       "      <td>#Trivandrum #Nedumangadu #CollectionCentre #Ke...</td>\n",
       "      <td>{'username': 'prabhul_p', 'id': 162980006, 'di...</td>\n",
       "      <td>qht</td>\n",
       "      <td>None</td>\n",
       "      <td>[Trivandrum, Nedumangadu, CollectionCentre, Ke...</td>\n",
       "      <td>0</td>\n",
       "      <td>0</td>\n",
       "    </tr>\n",
       "  </tbody>\n",
       "</table>\n",
       "</div>"
      ],
      "text/plain": [
       "                       date  \\\n",
       "0 2018-08-18 23:59:50+00:00   \n",
       "1 2018-08-18 23:59:40+00:00   \n",
       "2 2018-08-18 23:59:33+00:00   \n",
       "3 2018-08-18 23:59:33+00:00   \n",
       "4 2018-08-18 23:59:32+00:00   \n",
       "\n",
       "                                          rawContent  \\\n",
       "0  @IndiaCoastGuard rescued a 10day old baby and ...   \n",
       "1  Kindly exempt relief materials addressed to St...   \n",
       "2  IMPORTANT INFO: Life Jackets avaiable @ALUVA f...   \n",
       "3  @CBSNews #keralafloods #KeralaFloodRelief #Ker...   \n",
       "4  #Trivandrum #Nedumangadu #CollectionCentre #Ke...   \n",
       "\n",
       "                                                user lang place  \\\n",
       "0  {'username': 'Hari_offcl', 'id': 9023886736137...   en  None   \n",
       "1  {'username': 'AswathyJayasree', 'id': 71070962...   en  None   \n",
       "2  {'username': 'JayGooner_', 'id': 52633979, 'di...   en  None   \n",
       "3  {'username': 'arunima_vp', 'id': 8546095937748...  qme  None   \n",
       "4  {'username': 'prabhul_p', 'id': 162980006, 'di...  qht  None   \n",
       "\n",
       "                                            hashtags  likeCount  retweetCount  \n",
       "0                                     [KeralaFloods]          1             0  \n",
       "1                                     [KeralaFloods]          0             0  \n",
       "2  [Rescue, verified, KeralaFloods, KeralaFloodRe...          2             1  \n",
       "3  [keralafloods, KeralaFloodRelief, KeralaFlood,...          0             0  \n",
       "4  [Trivandrum, Nedumangadu, CollectionCentre, Ke...          0             0  "
      ]
     },
     "execution_count": 28,
     "metadata": {},
     "output_type": "execute_result"
    }
   ],
   "source": [
    "tweet_df.head()"
   ]
  },
  {
   "cell_type": "code",
   "execution_count": 29,
   "metadata": {},
   "outputs": [
    {
     "name": "stdout",
     "output_type": "stream",
     "text": [
      "<class 'pandas.core.frame.DataFrame'>\n",
      "RangeIndex: 10000 entries, 0 to 9999\n",
      "Data columns (total 8 columns):\n",
      " #   Column        Non-Null Count  Dtype              \n",
      "---  ------        --------------  -----              \n",
      " 0   date          10000 non-null  datetime64[ns, UTC]\n",
      " 1   rawContent    10000 non-null  object             \n",
      " 2   user          10000 non-null  object             \n",
      " 3   lang          10000 non-null  object             \n",
      " 4   place         577 non-null    object             \n",
      " 5   hashtags      9998 non-null   object             \n",
      " 6   likeCount     10000 non-null  int64              \n",
      " 7   retweetCount  10000 non-null  int64              \n",
      "dtypes: datetime64[ns, UTC](1), int64(2), object(5)\n",
      "memory usage: 625.1+ KB\n"
     ]
    }
   ],
   "source": [
    "tweet_df.info()"
   ]
  },
  {
   "cell_type": "markdown",
   "metadata": {},
   "source": [
    "tweet_df.to_csv('data_csv.csv')"
   ]
  },
  {
   "cell_type": "markdown",
   "metadata": {},
   "source": [
    "tweet_df.to_json('data_json.json')"
   ]
  },
  {
   "cell_type": "code",
   "execution_count": 55,
   "metadata": {},
   "outputs": [
    {
     "ename": "TypeError",
     "evalue": "unhashable type: 'dict'",
     "output_type": "error",
     "traceback": [
      "\u001b[1;31m---------------------------------------------------------------------------\u001b[0m",
      "\u001b[1;31mTypeError\u001b[0m                                 Traceback (most recent call last)",
      "Cell \u001b[1;32mIn[55], line 1\u001b[0m\n\u001b[1;32m----> 1\u001b[0m tweet_df[\u001b[39m'\u001b[39;49m\u001b[39mplace\u001b[39;49m\u001b[39m'\u001b[39;49m]\u001b[39m.\u001b[39;49mis_unique()\n",
      "File \u001b[1;32mc:\\Users\\abhin\\anaconda3\\envs\\tf-gpu\\lib\\site-packages\\pandas\\core\\base.py:1053\u001b[0m, in \u001b[0;36mIndexOpsMixin.is_unique\u001b[1;34m(self)\u001b[0m\n\u001b[0;32m   1044\u001b[0m \u001b[39m@property\u001b[39m\n\u001b[0;32m   1045\u001b[0m \u001b[39mdef\u001b[39;00m \u001b[39mis_unique\u001b[39m(\u001b[39mself\u001b[39m) \u001b[39m-\u001b[39m\u001b[39m>\u001b[39m \u001b[39mbool\u001b[39m:\n\u001b[0;32m   1046\u001b[0m \u001b[39m    \u001b[39m\u001b[39m\"\"\"\u001b[39;00m\n\u001b[0;32m   1047\u001b[0m \u001b[39m    Return boolean if values in the object are unique.\u001b[39;00m\n\u001b[0;32m   1048\u001b[0m \n\u001b[1;32m   (...)\u001b[0m\n\u001b[0;32m   1051\u001b[0m \u001b[39m    bool\u001b[39;00m\n\u001b[0;32m   1052\u001b[0m \u001b[39m    \"\"\"\u001b[39;00m\n\u001b[1;32m-> 1053\u001b[0m     \u001b[39mreturn\u001b[39;00m \u001b[39mself\u001b[39;49m\u001b[39m.\u001b[39;49mnunique(dropna\u001b[39m=\u001b[39;49m\u001b[39mFalse\u001b[39;49;00m) \u001b[39m==\u001b[39m \u001b[39mlen\u001b[39m(\u001b[39mself\u001b[39m)\n",
      "File \u001b[1;32mc:\\Users\\abhin\\anaconda3\\envs\\tf-gpu\\lib\\site-packages\\pandas\\core\\base.py:1039\u001b[0m, in \u001b[0;36mIndexOpsMixin.nunique\u001b[1;34m(self, dropna)\u001b[0m\n\u001b[0;32m   1005\u001b[0m \u001b[39mdef\u001b[39;00m \u001b[39mnunique\u001b[39m(\u001b[39mself\u001b[39m, dropna: \u001b[39mbool\u001b[39m \u001b[39m=\u001b[39m \u001b[39mTrue\u001b[39;00m) \u001b[39m-\u001b[39m\u001b[39m>\u001b[39m \u001b[39mint\u001b[39m:\n\u001b[0;32m   1006\u001b[0m \u001b[39m    \u001b[39m\u001b[39m\"\"\"\u001b[39;00m\n\u001b[0;32m   1007\u001b[0m \u001b[39m    Return number of unique elements in the object.\u001b[39;00m\n\u001b[0;32m   1008\u001b[0m \n\u001b[1;32m   (...)\u001b[0m\n\u001b[0;32m   1037\u001b[0m \u001b[39m    4\u001b[39;00m\n\u001b[0;32m   1038\u001b[0m \u001b[39m    \"\"\"\u001b[39;00m\n\u001b[1;32m-> 1039\u001b[0m     uniqs \u001b[39m=\u001b[39m \u001b[39mself\u001b[39;49m\u001b[39m.\u001b[39;49munique()\n\u001b[0;32m   1040\u001b[0m     \u001b[39mif\u001b[39;00m dropna:\n\u001b[0;32m   1041\u001b[0m         uniqs \u001b[39m=\u001b[39m remove_na_arraylike(uniqs)\n",
      "File \u001b[1;32mc:\\Users\\abhin\\anaconda3\\envs\\tf-gpu\\lib\\site-packages\\pandas\\core\\series.py:2242\u001b[0m, in \u001b[0;36mSeries.unique\u001b[1;34m(self)\u001b[0m\n\u001b[0;32m   2183\u001b[0m \u001b[39mdef\u001b[39;00m \u001b[39munique\u001b[39m(\u001b[39mself\u001b[39m) \u001b[39m-\u001b[39m\u001b[39m>\u001b[39m ArrayLike:\n\u001b[0;32m   2184\u001b[0m \u001b[39m    \u001b[39m\u001b[39m\"\"\"\u001b[39;00m\n\u001b[0;32m   2185\u001b[0m \u001b[39m    Return unique values of Series object.\u001b[39;00m\n\u001b[0;32m   2186\u001b[0m \n\u001b[1;32m   (...)\u001b[0m\n\u001b[0;32m   2240\u001b[0m \u001b[39m    Categories (3, object): ['a' < 'b' < 'c']\u001b[39;00m\n\u001b[0;32m   2241\u001b[0m \u001b[39m    \"\"\"\u001b[39;00m\n\u001b[1;32m-> 2242\u001b[0m     \u001b[39mreturn\u001b[39;00m \u001b[39msuper\u001b[39;49m()\u001b[39m.\u001b[39;49munique()\n",
      "File \u001b[1;32mc:\\Users\\abhin\\anaconda3\\envs\\tf-gpu\\lib\\site-packages\\pandas\\core\\base.py:1001\u001b[0m, in \u001b[0;36mIndexOpsMixin.unique\u001b[1;34m(self)\u001b[0m\n\u001b[0;32m    999\u001b[0m         result \u001b[39m=\u001b[39m np\u001b[39m.\u001b[39masarray(result)\n\u001b[0;32m   1000\u001b[0m \u001b[39melse\u001b[39;00m:\n\u001b[1;32m-> 1001\u001b[0m     result \u001b[39m=\u001b[39m unique1d(values)\n\u001b[0;32m   1003\u001b[0m \u001b[39mreturn\u001b[39;00m result\n",
      "File \u001b[1;32mc:\\Users\\abhin\\anaconda3\\envs\\tf-gpu\\lib\\site-packages\\pandas\\core\\algorithms.py:409\u001b[0m, in \u001b[0;36munique\u001b[1;34m(values)\u001b[0m\n\u001b[0;32m    315\u001b[0m \u001b[39mdef\u001b[39;00m \u001b[39munique\u001b[39m(values):\n\u001b[0;32m    316\u001b[0m \u001b[39m    \u001b[39m\u001b[39m\"\"\"\u001b[39;00m\n\u001b[0;32m    317\u001b[0m \u001b[39m    Return unique values based on a hash table.\u001b[39;00m\n\u001b[0;32m    318\u001b[0m \n\u001b[1;32m   (...)\u001b[0m\n\u001b[0;32m    407\u001b[0m \u001b[39m    array([('a', 'b'), ('b', 'a'), ('a', 'c')], dtype=object)\u001b[39;00m\n\u001b[0;32m    408\u001b[0m \u001b[39m    \"\"\"\u001b[39;00m\n\u001b[1;32m--> 409\u001b[0m     \u001b[39mreturn\u001b[39;00m unique_with_mask(values)\n",
      "File \u001b[1;32mc:\\Users\\abhin\\anaconda3\\envs\\tf-gpu\\lib\\site-packages\\pandas\\core\\algorithms.py:425\u001b[0m, in \u001b[0;36munique_with_mask\u001b[1;34m(values, mask)\u001b[0m\n\u001b[0;32m    423\u001b[0m table \u001b[39m=\u001b[39m htable(\u001b[39mlen\u001b[39m(values))\n\u001b[0;32m    424\u001b[0m \u001b[39mif\u001b[39;00m mask \u001b[39mis\u001b[39;00m \u001b[39mNone\u001b[39;00m:\n\u001b[1;32m--> 425\u001b[0m     uniques \u001b[39m=\u001b[39m table\u001b[39m.\u001b[39;49munique(values)\n\u001b[0;32m    426\u001b[0m     uniques \u001b[39m=\u001b[39m _reconstruct_data(uniques, original\u001b[39m.\u001b[39mdtype, original)\n\u001b[0;32m    427\u001b[0m     \u001b[39mreturn\u001b[39;00m uniques\n",
      "File \u001b[1;32mpandas\\_libs\\hashtable_class_helper.pxi:5910\u001b[0m, in \u001b[0;36mpandas._libs.hashtable.PyObjectHashTable.unique\u001b[1;34m()\u001b[0m\n",
      "File \u001b[1;32mpandas\\_libs\\hashtable_class_helper.pxi:5857\u001b[0m, in \u001b[0;36mpandas._libs.hashtable.PyObjectHashTable._unique\u001b[1;34m()\u001b[0m\n",
      "\u001b[1;31mTypeError\u001b[0m: unhashable type: 'dict'"
     ]
    }
   ],
   "source": [
    "tweet_df['place'].is_unique()"
   ]
  },
  {
   "cell_type": "code",
   "execution_count": 32,
   "metadata": {},
   "outputs": [],
   "source": [
    "excel_df = tweet_df\n",
    "excel_df['date'] = excel_df['date'].dt.tz_localize(None)\n",
    "excel_df.to_excel(\"data_excel.xlsx\")"
   ]
  },
  {
   "cell_type": "code",
   "execution_count": 52,
   "metadata": {},
   "outputs": [],
   "source": [
    "temp_df = pd.DataFrame(itertools.islice(sntwitter.TwitterSearchScraper('#KeralaFloods OR #OpMadad lang:en since:2018-08-08 until:2018-08-19').get_items(),100))"
   ]
  },
  {
   "cell_type": "code",
   "execution_count": 85,
   "metadata": {},
   "outputs": [],
   "source": [
    "temp_df = temp_df[col_list]"
   ]
  },
  {
   "cell_type": "code",
   "execution_count": 86,
   "metadata": {},
   "outputs": [
    {
     "name": "stdout",
     "output_type": "stream",
     "text": [
      "<class 'pandas.core.frame.DataFrame'>\n",
      "RangeIndex: 100 entries, 0 to 99\n",
      "Data columns (total 8 columns):\n",
      " #   Column        Non-Null Count  Dtype              \n",
      "---  ------        --------------  -----              \n",
      " 0   date          100 non-null    datetime64[ns, UTC]\n",
      " 1   rawContent    100 non-null    object             \n",
      " 2   user          100 non-null    object             \n",
      " 3   lang          100 non-null    object             \n",
      " 4   place         2 non-null      object             \n",
      " 5   hashtags      100 non-null    object             \n",
      " 6   likeCount     100 non-null    int64              \n",
      " 7   retweetCount  100 non-null    int64              \n",
      "dtypes: datetime64[ns, UTC](1), int64(2), object(5)\n",
      "memory usage: 6.4+ KB\n"
     ]
    }
   ],
   "source": [
    "temp_df.info()"
   ]
  },
  {
   "cell_type": "code",
   "execution_count": null,
   "metadata": {},
   "outputs": [],
   "source": []
  }
 ],
 "metadata": {
  "kernelspec": {
   "display_name": "tf-gpu",
   "language": "python",
   "name": "python3"
  },
  "language_info": {
   "codemirror_mode": {
    "name": "ipython",
    "version": 3
   },
   "file_extension": ".py",
   "mimetype": "text/x-python",
   "name": "python",
   "nbconvert_exporter": "python",
   "pygments_lexer": "ipython3",
   "version": "3.9.16"
  },
  "orig_nbformat": 4
 },
 "nbformat": 4,
 "nbformat_minor": 2
}
