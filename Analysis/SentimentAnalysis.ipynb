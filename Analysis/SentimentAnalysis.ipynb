{
 "cells": [
  {
   "attachments": {},
   "cell_type": "markdown",
   "metadata": {},
   "source": [
    "# SENTIMENT ANALYSIS"
   ]
  },
  {
   "attachments": {},
   "cell_type": "markdown",
   "metadata": {},
   "source": [
    "## Preprocessing "
   ]
  },
  {
   "cell_type": "code",
   "execution_count": 151,
   "metadata": {},
   "outputs": [],
   "source": [
    "import pandas as pd\n",
    "import re\n",
    "import string\n",
    "from nltk.corpus import stopwords\n",
    "import spacy\n",
    "\n",
    "import warnings\n",
    "warnings.filterwarnings('ignore')"
   ]
  },
  {
   "cell_type": "code",
   "execution_count": 152,
   "metadata": {},
   "outputs": [],
   "source": [
    "tweets = pd.read_csv('tweets_csv.csv')\n",
    "tweets2 = pd.read_excel('data_excel.xlsx')"
   ]
  },
  {
   "cell_type": "code",
   "execution_count": 153,
   "metadata": {},
   "outputs": [],
   "source": [
    "df=pd.concat([tweets,tweets2],axis=0)\n",
    "df = df[df['lang'] == 'en']"
   ]
  },
  {
   "cell_type": "code",
   "execution_count": 154,
   "metadata": {},
   "outputs": [
    {
     "name": "stdout",
     "output_type": "stream",
     "text": [
      "<class 'pandas.core.frame.DataFrame'>\n",
      "RangeIndex: 9182 entries, 0 to 9181\n",
      "Data columns (total 4 columns):\n",
      " #   Column      Non-Null Count  Dtype \n",
      "---  ------      --------------  ----- \n",
      " 0   date        9182 non-null   object\n",
      " 1   rawContent  9182 non-null   object\n",
      " 2   place       2973 non-null   object\n",
      " 3   hashtags    9153 non-null   object\n",
      "dtypes: object(4)\n",
      "memory usage: 287.1+ KB\n"
     ]
    }
   ],
   "source": [
    "df = df.drop(columns=['Unnamed: 0.1','Unnamed: 0','likeCount','retweetCount','user','lang'])\n",
    "df = df.reset_index()\n",
    "df = df.drop(columns=['index'])\n",
    "df.info()"
   ]
  },
  {
   "cell_type": "code",
   "execution_count": 155,
   "metadata": {},
   "outputs": [],
   "source": [
    "nlp = spacy.load('en_core_web_sm', disable=['parser', 'ner'])"
   ]
  },
  {
   "cell_type": "code",
   "execution_count": 156,
   "metadata": {},
   "outputs": [],
   "source": [
    "def strip_links(text):\n",
    "    link_regex    = re.compile('((https?):((//)|(\\\\\\\\))+([\\w\\d:#@%/;$()~_?\\+-=\\\\\\.&](#!)?)*)', re.DOTALL)\n",
    "    links         = re.findall(link_regex, text)\n",
    "    for link in links:\n",
    "        text = text.replace(link[0], ', ')    \n",
    "    return text\n",
    "\n",
    "def strip_all_entities(text):\n",
    "    entity_prefixes = ['@','#']\n",
    "    for separator in  string.punctuation:\n",
    "        if separator not in entity_prefixes :\n",
    "            text = text.replace(separator,' ')\n",
    "    words = []\n",
    "    for word in text.split():\n",
    "        word = word.strip()\n",
    "        if word:\n",
    "            if word[0] not in entity_prefixes:\n",
    "                words.append(word)\n",
    "    return ' '.join(words)"
   ]
  },
  {
   "cell_type": "code",
   "execution_count": 157,
   "metadata": {},
   "outputs": [],
   "source": [
    "df['Content'] = df['rawContent'].apply(lambda x: strip_all_entities(strip_links(x))) #removing links, hashtags, mentions"
   ]
  },
  {
   "cell_type": "code",
   "execution_count": 158,
   "metadata": {},
   "outputs": [
    {
     "data": {
      "text/plain": [
       "0       opened the shutters of dam beautiful amp scary\n",
       "1                                it s rising stay safe\n",
       "2                             more pics from the scene\n",
       "3    dams third shutter opened for first time in 26...\n",
       "4                     idukki dam opened after 26 years\n",
       "Name: Content, dtype: object"
      ]
     },
     "execution_count": 158,
     "metadata": {},
     "output_type": "execute_result"
    }
   ],
   "source": [
    "df['Content'] = df['Content'].apply(lambda x: \" \".join(x.lower() for x in x.split()))  #lowercase\n",
    "df['Content'] = df['Content'].str.replace('[^\\w\\s]','')  #removing punctuation\n",
    "df['Content'].head()"
   ]
  },
  {
   "cell_type": "code",
   "execution_count": 159,
   "metadata": {},
   "outputs": [],
   "source": [
    "def remove_emoji(text):\n",
    "    emoji_pattern = re.compile(\"[\"\n",
    "                           u\"\\U0001F600-\\U0001F64F\"  # emoticons\n",
    "                           u\"\\U0001F300-\\U0001F5FF\"  # symbols & pictographs\n",
    "                           u\"\\U0001F680-\\U0001F6FF\"  # transport & map symbols\n",
    "                           u\"\\U0001F1E0-\\U0001F1FF\"  # flags \n",
    "                           u\"\\U00002702-\\U000027B0\"\n",
    "                           u\"\\U000024C2-\\U0001F251\"\n",
    "                           \"]+\", flags=re.UNICODE)\n",
    "    return emoji_pattern.sub(r'', text)\n",
    "df['Content'] = df['Content'].apply(lambda x: remove_emoji(x))"
   ]
  },
  {
   "cell_type": "code",
   "execution_count": 160,
   "metadata": {},
   "outputs": [
    {
     "data": {
      "text/html": [
       "<div>\n",
       "<style scoped>\n",
       "    .dataframe tbody tr th:only-of-type {\n",
       "        vertical-align: middle;\n",
       "    }\n",
       "\n",
       "    .dataframe tbody tr th {\n",
       "        vertical-align: top;\n",
       "    }\n",
       "\n",
       "    .dataframe thead th {\n",
       "        text-align: right;\n",
       "    }\n",
       "</style>\n",
       "<table border=\"1\" class=\"dataframe\">\n",
       "  <thead>\n",
       "    <tr style=\"text-align: right;\">\n",
       "      <th></th>\n",
       "      <th>date</th>\n",
       "      <th>rawContent</th>\n",
       "      <th>place</th>\n",
       "      <th>hashtags</th>\n",
       "      <th>Content</th>\n",
       "    </tr>\n",
       "  </thead>\n",
       "  <tbody>\n",
       "    <tr>\n",
       "      <th>0</th>\n",
       "      <td>2018-08-01 07:42:50</td>\n",
       "      <td>Opened the shutters of #Malampuzha dam #Palakk...</td>\n",
       "      <td>{'id': '09294260a5199155', 'fullName': 'Ulliye...</td>\n",
       "      <td>['Malampuzha', 'Palakkad', 'KeralaFlood']</td>\n",
       "      <td>opened shutters dam beautiful amp scary</td>\n",
       "    </tr>\n",
       "    <tr>\n",
       "      <th>1</th>\n",
       "      <td>2018-08-09 05:02:39</td>\n",
       "      <td>It's rising. Stay safe. #Keralarains#kalady ht...</td>\n",
       "      <td>{'id': '7a01d1cbca786e81', 'fullName': 'Kanaya...</td>\n",
       "      <td>NaN</td>\n",
       "      <td>rising stay safe</td>\n",
       "    </tr>\n",
       "    <tr>\n",
       "      <th>2</th>\n",
       "      <td>2018-08-09 05:42:24</td>\n",
       "      <td>More pics from the scene. #kalady#keralaflood ...</td>\n",
       "      <td>{'id': '7a01d1cbca786e81', 'fullName': 'Kanaya...</td>\n",
       "      <td>NaN</td>\n",
       "      <td>pics scene</td>\n",
       "    </tr>\n",
       "    <tr>\n",
       "      <th>3</th>\n",
       "      <td>2018-08-09 07:07:00</td>\n",
       "      <td>#idukki dams third shutter opened for first ti...</td>\n",
       "      <td>{'id': '5d01806d080d1e50', 'fullName': 'Kerala...</td>\n",
       "      <td>['idukki', 'Kerala', 'periyar', 'aluva', 'Kera...</td>\n",
       "      <td>dams third shutter opened first time 26 years ...</td>\n",
       "    </tr>\n",
       "    <tr>\n",
       "      <th>4</th>\n",
       "      <td>2018-08-09 07:26:31</td>\n",
       "      <td>Idukki dam opened after 26 years!\\n#IDUKKI \\n#...</td>\n",
       "      <td>{'id': '24dab5a953e050c5', 'fullName': 'Trivan...</td>\n",
       "      <td>['IDUKKI', 'keralarains']</td>\n",
       "      <td>idukki dam opened 26 years</td>\n",
       "    </tr>\n",
       "    <tr>\n",
       "      <th>5</th>\n",
       "      <td>2018-08-09 07:40:32</td>\n",
       "      <td>#kerala stay safe #keralarains #GodsOwnCountry</td>\n",
       "      <td>{'id': '5f55bb82cf16ac81', 'fullName': 'Bengal...</td>\n",
       "      <td>['kerala', 'keralarains', 'GodsOwnCountry']</td>\n",
       "      <td>stay safe</td>\n",
       "    </tr>\n",
       "    <tr>\n",
       "      <th>6</th>\n",
       "      <td>2018-08-09 09:21:30</td>\n",
       "      <td>#KeralaFloods so, national media again suffers...</td>\n",
       "      <td>{'id': '6d86f195adaa42fb', 'fullName': 'Saidap...</td>\n",
       "      <td>['KeralaFloods']</td>\n",
       "      <td>national media suffers tyranny distance covera...</td>\n",
       "    </tr>\n",
       "    <tr>\n",
       "      <th>7</th>\n",
       "      <td>2018-08-09 09:25:21</td>\n",
       "      <td>Heavy rains wash away Railway tracks in Palakk...</td>\n",
       "      <td>{'id': '03b7ea94ef68e9d7', 'fullName': 'Mylapo...</td>\n",
       "      <td>['keralarains']</td>\n",
       "      <td>heavy rains wash away railway tracks palakkad</td>\n",
       "    </tr>\n",
       "    <tr>\n",
       "      <th>8</th>\n",
       "      <td>2018-08-09 10:03:02</td>\n",
       "      <td>Avoid roads like these as heavy rain lashing i...</td>\n",
       "      <td>{'id': '232099930cfd4364', 'fullName': 'Munnar...</td>\n",
       "      <td>['Kerala', 'KeralaFloods']</td>\n",
       "      <td>avoid roads like heavy rain lashing hilly regi...</td>\n",
       "    </tr>\n",
       "    <tr>\n",
       "      <th>9</th>\n",
       "      <td>2018-08-09 10:07:03</td>\n",
       "      <td>Guidelines for tourists in #KeralaFloods.  Thi...</td>\n",
       "      <td>{'id': '232099930cfd4364', 'fullName': 'Munnar...</td>\n",
       "      <td>['KeralaFloods', 'Kerala']</td>\n",
       "      <td>guidelines tourists things avoid travelling he...</td>\n",
       "    </tr>\n",
       "    <tr>\n",
       "      <th>10</th>\n",
       "      <td>2018-08-09 11:03:19</td>\n",
       "      <td>#KeralaFloods\\n#keralaRains #Kerala \\nBe safe ...</td>\n",
       "      <td>{'id': '4ad0fa6d89777d40', 'fullName': 'Egmore...</td>\n",
       "      <td>['KeralaFloods', 'keralaRains', 'Kerala']</td>\n",
       "      <td>safe</td>\n",
       "    </tr>\n",
       "    <tr>\n",
       "      <th>11</th>\n",
       "      <td>2018-08-09 11:05:25</td>\n",
       "      <td>After 26 years, shutters of the #IdukkiDam ope...</td>\n",
       "      <td>{'id': '232099930cfd4364', 'fullName': 'Munnar...</td>\n",
       "      <td>['IdukkiDam', 'KeralaFloods', 'keralaRains', '...</td>\n",
       "      <td>26 years shutters opened trial run water level...</td>\n",
       "    </tr>\n",
       "    <tr>\n",
       "      <th>12</th>\n",
       "      <td>2018-08-09 11:10:03</td>\n",
       "      <td>Rain rain go away.. 🎼🎼🎵🎵 #Rain #KeralaRain #Ke...</td>\n",
       "      <td>{'id': '24dab5a953e050c5', 'fullName': 'Trivan...</td>\n",
       "      <td>['Rain', 'KeralaRain', 'KeralaFloods']</td>\n",
       "      <td>rain rain go away</td>\n",
       "    </tr>\n",
       "    <tr>\n",
       "      <th>13</th>\n",
       "      <td>2018-08-09 11:12:04</td>\n",
       "      <td>Be safe #KeralaFloods</td>\n",
       "      <td>{'id': '7a01d1cbca786e81', 'fullName': 'Kanaya...</td>\n",
       "      <td>['KeralaFloods']</td>\n",
       "      <td>safe</td>\n",
       "    </tr>\n",
       "    <tr>\n",
       "      <th>14</th>\n",
       "      <td>2018-08-09 11:14:07</td>\n",
       "      <td>Rides like these are extremely dangerous in he...</td>\n",
       "      <td>{'id': '232099930cfd4364', 'fullName': 'Munnar...</td>\n",
       "      <td>['KeralaRain', 'KeralaFloods', 'tourists', 'Ke...</td>\n",
       "      <td>rides like extremely dangerous heavy guidelines</td>\n",
       "    </tr>\n",
       "    <tr>\n",
       "      <th>15</th>\n",
       "      <td>2018-08-09 11:17:19</td>\n",
       "      <td>#keralarains It's getting worse.. #Kerala Cont...</td>\n",
       "      <td>NaN</td>\n",
       "      <td>['keralarains', 'Kerala', 'KeralaFloods']</td>\n",
       "      <td>getting worse continue</td>\n",
       "    </tr>\n",
       "    <tr>\n",
       "      <th>16</th>\n",
       "      <td>2018-08-09 11:28:56</td>\n",
       "      <td>Finally hoping to be back home town  #CIAL #ke...</td>\n",
       "      <td>{'id': '7a01d1cbca786e81', 'fullName': 'Kanaya...</td>\n",
       "      <td>['CIAL', 'keralarains', 'KeralaFloods']</td>\n",
       "      <td>finally hoping back home town</td>\n",
       "    </tr>\n",
       "    <tr>\n",
       "      <th>17</th>\n",
       "      <td>2018-08-09 11:40:35</td>\n",
       "      <td>As many as 11 people 're reported dead in Iduk...</td>\n",
       "      <td>{'id': '4e61e76e6c68fcdf', 'fullName': 'Tamil ...</td>\n",
       "      <td>['Keralarains', 'KeralaFloods', 'Kerala']</td>\n",
       "      <td>many 11 people reported dead idukki district 6...</td>\n",
       "    </tr>\n",
       "    <tr>\n",
       "      <th>18</th>\n",
       "      <td>2018-08-09 11:41:54</td>\n",
       "      <td>#keralarains is now trending in #Bangalore\\n\\n...</td>\n",
       "      <td>{'id': '1b8680cd52a711cb', 'fullName': 'Bengal...</td>\n",
       "      <td>['keralarains', 'Bangalore']</td>\n",
       "      <td>trending</td>\n",
       "    </tr>\n",
       "    <tr>\n",
       "      <th>19</th>\n",
       "      <td>2018-08-09 11:44:07</td>\n",
       "      <td>#Keralarains : Over 20 dead in landslide and f...</td>\n",
       "      <td>{'id': '4e61e76e6c68fcdf', 'fullName': 'Tamil ...</td>\n",
       "      <td>['Keralarains', 'KeralaRains', 'KeralaFloods']</td>\n",
       "      <td>20 dead landslide floods 22 dams opened simult...</td>\n",
       "    </tr>\n",
       "  </tbody>\n",
       "</table>\n",
       "</div>"
      ],
      "text/plain": [
       "                   date                                         rawContent   \n",
       "0   2018-08-01 07:42:50  Opened the shutters of #Malampuzha dam #Palakk...  \\\n",
       "1   2018-08-09 05:02:39  It's rising. Stay safe. #Keralarains#kalady ht...   \n",
       "2   2018-08-09 05:42:24  More pics from the scene. #kalady#keralaflood ...   \n",
       "3   2018-08-09 07:07:00  #idukki dams third shutter opened for first ti...   \n",
       "4   2018-08-09 07:26:31  Idukki dam opened after 26 years!\\n#IDUKKI \\n#...   \n",
       "5   2018-08-09 07:40:32     #kerala stay safe #keralarains #GodsOwnCountry   \n",
       "6   2018-08-09 09:21:30  #KeralaFloods so, national media again suffers...   \n",
       "7   2018-08-09 09:25:21  Heavy rains wash away Railway tracks in Palakk...   \n",
       "8   2018-08-09 10:03:02  Avoid roads like these as heavy rain lashing i...   \n",
       "9   2018-08-09 10:07:03  Guidelines for tourists in #KeralaFloods.  Thi...   \n",
       "10  2018-08-09 11:03:19  #KeralaFloods\\n#keralaRains #Kerala \\nBe safe ...   \n",
       "11  2018-08-09 11:05:25  After 26 years, shutters of the #IdukkiDam ope...   \n",
       "12  2018-08-09 11:10:03  Rain rain go away.. 🎼🎼🎵🎵 #Rain #KeralaRain #Ke...   \n",
       "13  2018-08-09 11:12:04                              Be safe #KeralaFloods   \n",
       "14  2018-08-09 11:14:07  Rides like these are extremely dangerous in he...   \n",
       "15  2018-08-09 11:17:19  #keralarains It's getting worse.. #Kerala Cont...   \n",
       "16  2018-08-09 11:28:56  Finally hoping to be back home town  #CIAL #ke...   \n",
       "17  2018-08-09 11:40:35  As many as 11 people 're reported dead in Iduk...   \n",
       "18  2018-08-09 11:41:54  #keralarains is now trending in #Bangalore\\n\\n...   \n",
       "19  2018-08-09 11:44:07  #Keralarains : Over 20 dead in landslide and f...   \n",
       "\n",
       "                                                place   \n",
       "0   {'id': '09294260a5199155', 'fullName': 'Ulliye...  \\\n",
       "1   {'id': '7a01d1cbca786e81', 'fullName': 'Kanaya...   \n",
       "2   {'id': '7a01d1cbca786e81', 'fullName': 'Kanaya...   \n",
       "3   {'id': '5d01806d080d1e50', 'fullName': 'Kerala...   \n",
       "4   {'id': '24dab5a953e050c5', 'fullName': 'Trivan...   \n",
       "5   {'id': '5f55bb82cf16ac81', 'fullName': 'Bengal...   \n",
       "6   {'id': '6d86f195adaa42fb', 'fullName': 'Saidap...   \n",
       "7   {'id': '03b7ea94ef68e9d7', 'fullName': 'Mylapo...   \n",
       "8   {'id': '232099930cfd4364', 'fullName': 'Munnar...   \n",
       "9   {'id': '232099930cfd4364', 'fullName': 'Munnar...   \n",
       "10  {'id': '4ad0fa6d89777d40', 'fullName': 'Egmore...   \n",
       "11  {'id': '232099930cfd4364', 'fullName': 'Munnar...   \n",
       "12  {'id': '24dab5a953e050c5', 'fullName': 'Trivan...   \n",
       "13  {'id': '7a01d1cbca786e81', 'fullName': 'Kanaya...   \n",
       "14  {'id': '232099930cfd4364', 'fullName': 'Munnar...   \n",
       "15                                                NaN   \n",
       "16  {'id': '7a01d1cbca786e81', 'fullName': 'Kanaya...   \n",
       "17  {'id': '4e61e76e6c68fcdf', 'fullName': 'Tamil ...   \n",
       "18  {'id': '1b8680cd52a711cb', 'fullName': 'Bengal...   \n",
       "19  {'id': '4e61e76e6c68fcdf', 'fullName': 'Tamil ...   \n",
       "\n",
       "                                             hashtags   \n",
       "0           ['Malampuzha', 'Palakkad', 'KeralaFlood']  \\\n",
       "1                                                 NaN   \n",
       "2                                                 NaN   \n",
       "3   ['idukki', 'Kerala', 'periyar', 'aluva', 'Kera...   \n",
       "4                           ['IDUKKI', 'keralarains']   \n",
       "5         ['kerala', 'keralarains', 'GodsOwnCountry']   \n",
       "6                                    ['KeralaFloods']   \n",
       "7                                     ['keralarains']   \n",
       "8                          ['Kerala', 'KeralaFloods']   \n",
       "9                          ['KeralaFloods', 'Kerala']   \n",
       "10          ['KeralaFloods', 'keralaRains', 'Kerala']   \n",
       "11  ['IdukkiDam', 'KeralaFloods', 'keralaRains', '...   \n",
       "12             ['Rain', 'KeralaRain', 'KeralaFloods']   \n",
       "13                                   ['KeralaFloods']   \n",
       "14  ['KeralaRain', 'KeralaFloods', 'tourists', 'Ke...   \n",
       "15          ['keralarains', 'Kerala', 'KeralaFloods']   \n",
       "16            ['CIAL', 'keralarains', 'KeralaFloods']   \n",
       "17          ['Keralarains', 'KeralaFloods', 'Kerala']   \n",
       "18                       ['keralarains', 'Bangalore']   \n",
       "19     ['Keralarains', 'KeralaRains', 'KeralaFloods']   \n",
       "\n",
       "                                              Content  \n",
       "0             opened shutters dam beautiful amp scary  \n",
       "1                                    rising stay safe  \n",
       "2                                          pics scene  \n",
       "3   dams third shutter opened first time 26 years ...  \n",
       "4                          idukki dam opened 26 years  \n",
       "5                                           stay safe  \n",
       "6   national media suffers tyranny distance covera...  \n",
       "7       heavy rains wash away railway tracks palakkad  \n",
       "8   avoid roads like heavy rain lashing hilly regi...  \n",
       "9   guidelines tourists things avoid travelling he...  \n",
       "10                                               safe  \n",
       "11  26 years shutters opened trial run water level...  \n",
       "12                                  rain rain go away  \n",
       "13                                               safe  \n",
       "14    rides like extremely dangerous heavy guidelines  \n",
       "15                             getting worse continue  \n",
       "16                      finally hoping back home town  \n",
       "17  many 11 people reported dead idukki district 6...  \n",
       "18                                           trending  \n",
       "19  20 dead landslide floods 22 dams opened simult...  "
      ]
     },
     "execution_count": 160,
     "metadata": {},
     "output_type": "execute_result"
    }
   ],
   "source": [
    "stop = stopwords.words('english')\n",
    "df['Content'] = df['Content'].apply(lambda x: \" \".join(x for x in x.split() if x not in stop))\n",
    "df.head(20)"
   ]
  },
  {
   "cell_type": "code",
   "execution_count": 161,
   "metadata": {},
   "outputs": [
    {
     "data": {
      "text/html": [
       "<div>\n",
       "<style scoped>\n",
       "    .dataframe tbody tr th:only-of-type {\n",
       "        vertical-align: middle;\n",
       "    }\n",
       "\n",
       "    .dataframe tbody tr th {\n",
       "        vertical-align: top;\n",
       "    }\n",
       "\n",
       "    .dataframe thead th {\n",
       "        text-align: right;\n",
       "    }\n",
       "</style>\n",
       "<table border=\"1\" class=\"dataframe\">\n",
       "  <thead>\n",
       "    <tr style=\"text-align: right;\">\n",
       "      <th></th>\n",
       "      <th>date</th>\n",
       "      <th>rawContent</th>\n",
       "      <th>place</th>\n",
       "      <th>hashtags</th>\n",
       "      <th>Content</th>\n",
       "    </tr>\n",
       "  </thead>\n",
       "  <tbody>\n",
       "    <tr>\n",
       "      <th>0</th>\n",
       "      <td>2018-08-01 07:42:50</td>\n",
       "      <td>Opened the shutters of #Malampuzha dam #Palakk...</td>\n",
       "      <td>{'id': '09294260a5199155', 'fullName': 'Ulliye...</td>\n",
       "      <td>['Malampuzha', 'Palakkad', 'KeralaFlood']</td>\n",
       "      <td>open shutter dam beautiful amp scary</td>\n",
       "    </tr>\n",
       "    <tr>\n",
       "      <th>1</th>\n",
       "      <td>2018-08-09 05:02:39</td>\n",
       "      <td>It's rising. Stay safe. #Keralarains#kalady ht...</td>\n",
       "      <td>{'id': '7a01d1cbca786e81', 'fullName': 'Kanaya...</td>\n",
       "      <td>NaN</td>\n",
       "      <td>rise stay safe</td>\n",
       "    </tr>\n",
       "    <tr>\n",
       "      <th>2</th>\n",
       "      <td>2018-08-09 05:42:24</td>\n",
       "      <td>More pics from the scene. #kalady#keralaflood ...</td>\n",
       "      <td>{'id': '7a01d1cbca786e81', 'fullName': 'Kanaya...</td>\n",
       "      <td>NaN</td>\n",
       "      <td>pic scene</td>\n",
       "    </tr>\n",
       "    <tr>\n",
       "      <th>3</th>\n",
       "      <td>2018-08-09 07:07:00</td>\n",
       "      <td>#idukki dams third shutter opened for first ti...</td>\n",
       "      <td>{'id': '5d01806d080d1e50', 'fullName': 'Kerala...</td>\n",
       "      <td>['idukki', 'Kerala', 'periyar', 'aluva', 'Kera...</td>\n",
       "      <td>dams third shutter open first time 26 year flo...</td>\n",
       "    </tr>\n",
       "    <tr>\n",
       "      <th>4</th>\n",
       "      <td>2018-08-09 07:26:31</td>\n",
       "      <td>Idukki dam opened after 26 years!\\n#IDUKKI \\n#...</td>\n",
       "      <td>{'id': '24dab5a953e050c5', 'fullName': 'Trivan...</td>\n",
       "      <td>['IDUKKI', 'keralarains']</td>\n",
       "      <td>idukki dam open 26 year</td>\n",
       "    </tr>\n",
       "    <tr>\n",
       "      <th>5</th>\n",
       "      <td>2018-08-09 07:40:32</td>\n",
       "      <td>#kerala stay safe #keralarains #GodsOwnCountry</td>\n",
       "      <td>{'id': '5f55bb82cf16ac81', 'fullName': 'Bengal...</td>\n",
       "      <td>['kerala', 'keralarains', 'GodsOwnCountry']</td>\n",
       "      <td>stay safe</td>\n",
       "    </tr>\n",
       "    <tr>\n",
       "      <th>6</th>\n",
       "      <td>2018-08-09 09:21:30</td>\n",
       "      <td>#KeralaFloods so, national media again suffers...</td>\n",
       "      <td>{'id': '6d86f195adaa42fb', 'fullName': 'Saidap...</td>\n",
       "      <td>['KeralaFloods']</td>\n",
       "      <td>national medium suffer tyranny distance covera...</td>\n",
       "    </tr>\n",
       "    <tr>\n",
       "      <th>7</th>\n",
       "      <td>2018-08-09 09:25:21</td>\n",
       "      <td>Heavy rains wash away Railway tracks in Palakk...</td>\n",
       "      <td>{'id': '03b7ea94ef68e9d7', 'fullName': 'Mylapo...</td>\n",
       "      <td>['keralarains']</td>\n",
       "      <td>heavy rain wash away railway track palakkad</td>\n",
       "    </tr>\n",
       "    <tr>\n",
       "      <th>8</th>\n",
       "      <td>2018-08-09 10:03:02</td>\n",
       "      <td>Avoid roads like these as heavy rain lashing i...</td>\n",
       "      <td>{'id': '232099930cfd4364', 'fullName': 'Munnar...</td>\n",
       "      <td>['Kerala', 'KeralaFloods']</td>\n",
       "      <td>avoid road like heavy rain lash hilly region f...</td>\n",
       "    </tr>\n",
       "    <tr>\n",
       "      <th>9</th>\n",
       "      <td>2018-08-09 10:07:03</td>\n",
       "      <td>Guidelines for tourists in #KeralaFloods.  Thi...</td>\n",
       "      <td>{'id': '232099930cfd4364', 'fullName': 'Munnar...</td>\n",
       "      <td>['KeralaFloods', 'Kerala']</td>\n",
       "      <td>guideline tourist thing avoid travel heavy rain</td>\n",
       "    </tr>\n",
       "    <tr>\n",
       "      <th>10</th>\n",
       "      <td>2018-08-09 11:03:19</td>\n",
       "      <td>#KeralaFloods\\n#keralaRains #Kerala \\nBe safe ...</td>\n",
       "      <td>{'id': '4ad0fa6d89777d40', 'fullName': 'Egmore...</td>\n",
       "      <td>['KeralaFloods', 'keralaRains', 'Kerala']</td>\n",
       "      <td>safe</td>\n",
       "    </tr>\n",
       "    <tr>\n",
       "      <th>11</th>\n",
       "      <td>2018-08-09 11:05:25</td>\n",
       "      <td>After 26 years, shutters of the #IdukkiDam ope...</td>\n",
       "      <td>{'id': '232099930cfd4364', 'fullName': 'Munnar...</td>\n",
       "      <td>['IdukkiDam', 'KeralaFloods', 'keralaRains', '...</td>\n",
       "      <td>26 year shutter open trial run water level ris...</td>\n",
       "    </tr>\n",
       "    <tr>\n",
       "      <th>12</th>\n",
       "      <td>2018-08-09 11:10:03</td>\n",
       "      <td>Rain rain go away.. 🎼🎼🎵🎵 #Rain #KeralaRain #Ke...</td>\n",
       "      <td>{'id': '24dab5a953e050c5', 'fullName': 'Trivan...</td>\n",
       "      <td>['Rain', 'KeralaRain', 'KeralaFloods']</td>\n",
       "      <td>rain rain go away</td>\n",
       "    </tr>\n",
       "    <tr>\n",
       "      <th>13</th>\n",
       "      <td>2018-08-09 11:12:04</td>\n",
       "      <td>Be safe #KeralaFloods</td>\n",
       "      <td>{'id': '7a01d1cbca786e81', 'fullName': 'Kanaya...</td>\n",
       "      <td>['KeralaFloods']</td>\n",
       "      <td>safe</td>\n",
       "    </tr>\n",
       "    <tr>\n",
       "      <th>14</th>\n",
       "      <td>2018-08-09 11:14:07</td>\n",
       "      <td>Rides like these are extremely dangerous in he...</td>\n",
       "      <td>{'id': '232099930cfd4364', 'fullName': 'Munnar...</td>\n",
       "      <td>['KeralaRain', 'KeralaFloods', 'tourists', 'Ke...</td>\n",
       "      <td>ride like extremely dangerous heavy guideline</td>\n",
       "    </tr>\n",
       "    <tr>\n",
       "      <th>15</th>\n",
       "      <td>2018-08-09 11:17:19</td>\n",
       "      <td>#keralarains It's getting worse.. #Kerala Cont...</td>\n",
       "      <td>NaN</td>\n",
       "      <td>['keralarains', 'Kerala', 'KeralaFloods']</td>\n",
       "      <td>get bad continue</td>\n",
       "    </tr>\n",
       "    <tr>\n",
       "      <th>16</th>\n",
       "      <td>2018-08-09 11:28:56</td>\n",
       "      <td>Finally hoping to be back home town  #CIAL #ke...</td>\n",
       "      <td>{'id': '7a01d1cbca786e81', 'fullName': 'Kanaya...</td>\n",
       "      <td>['CIAL', 'keralarains', 'KeralaFloods']</td>\n",
       "      <td>finally hope back home town</td>\n",
       "    </tr>\n",
       "    <tr>\n",
       "      <th>17</th>\n",
       "      <td>2018-08-09 11:40:35</td>\n",
       "      <td>As many as 11 people 're reported dead in Iduk...</td>\n",
       "      <td>{'id': '4e61e76e6c68fcdf', 'fullName': 'Tamil ...</td>\n",
       "      <td>['Keralarains', 'KeralaFloods', 'Kerala']</td>\n",
       "      <td>many 11 people report dead idukki district 6 m...</td>\n",
       "    </tr>\n",
       "    <tr>\n",
       "      <th>18</th>\n",
       "      <td>2018-08-09 11:41:54</td>\n",
       "      <td>#keralarains is now trending in #Bangalore\\n\\n...</td>\n",
       "      <td>{'id': '1b8680cd52a711cb', 'fullName': 'Bengal...</td>\n",
       "      <td>['keralarains', 'Bangalore']</td>\n",
       "      <td>trend</td>\n",
       "    </tr>\n",
       "    <tr>\n",
       "      <th>19</th>\n",
       "      <td>2018-08-09 11:44:07</td>\n",
       "      <td>#Keralarains : Over 20 dead in landslide and f...</td>\n",
       "      <td>{'id': '4e61e76e6c68fcdf', 'fullName': 'Tamil ...</td>\n",
       "      <td>['Keralarains', 'KeralaRains', 'KeralaFloods']</td>\n",
       "      <td>20 dead landslide flood 22 dam open simultaneo...</td>\n",
       "    </tr>\n",
       "  </tbody>\n",
       "</table>\n",
       "</div>"
      ],
      "text/plain": [
       "                   date                                         rawContent   \n",
       "0   2018-08-01 07:42:50  Opened the shutters of #Malampuzha dam #Palakk...  \\\n",
       "1   2018-08-09 05:02:39  It's rising. Stay safe. #Keralarains#kalady ht...   \n",
       "2   2018-08-09 05:42:24  More pics from the scene. #kalady#keralaflood ...   \n",
       "3   2018-08-09 07:07:00  #idukki dams third shutter opened for first ti...   \n",
       "4   2018-08-09 07:26:31  Idukki dam opened after 26 years!\\n#IDUKKI \\n#...   \n",
       "5   2018-08-09 07:40:32     #kerala stay safe #keralarains #GodsOwnCountry   \n",
       "6   2018-08-09 09:21:30  #KeralaFloods so, national media again suffers...   \n",
       "7   2018-08-09 09:25:21  Heavy rains wash away Railway tracks in Palakk...   \n",
       "8   2018-08-09 10:03:02  Avoid roads like these as heavy rain lashing i...   \n",
       "9   2018-08-09 10:07:03  Guidelines for tourists in #KeralaFloods.  Thi...   \n",
       "10  2018-08-09 11:03:19  #KeralaFloods\\n#keralaRains #Kerala \\nBe safe ...   \n",
       "11  2018-08-09 11:05:25  After 26 years, shutters of the #IdukkiDam ope...   \n",
       "12  2018-08-09 11:10:03  Rain rain go away.. 🎼🎼🎵🎵 #Rain #KeralaRain #Ke...   \n",
       "13  2018-08-09 11:12:04                              Be safe #KeralaFloods   \n",
       "14  2018-08-09 11:14:07  Rides like these are extremely dangerous in he...   \n",
       "15  2018-08-09 11:17:19  #keralarains It's getting worse.. #Kerala Cont...   \n",
       "16  2018-08-09 11:28:56  Finally hoping to be back home town  #CIAL #ke...   \n",
       "17  2018-08-09 11:40:35  As many as 11 people 're reported dead in Iduk...   \n",
       "18  2018-08-09 11:41:54  #keralarains is now trending in #Bangalore\\n\\n...   \n",
       "19  2018-08-09 11:44:07  #Keralarains : Over 20 dead in landslide and f...   \n",
       "\n",
       "                                                place   \n",
       "0   {'id': '09294260a5199155', 'fullName': 'Ulliye...  \\\n",
       "1   {'id': '7a01d1cbca786e81', 'fullName': 'Kanaya...   \n",
       "2   {'id': '7a01d1cbca786e81', 'fullName': 'Kanaya...   \n",
       "3   {'id': '5d01806d080d1e50', 'fullName': 'Kerala...   \n",
       "4   {'id': '24dab5a953e050c5', 'fullName': 'Trivan...   \n",
       "5   {'id': '5f55bb82cf16ac81', 'fullName': 'Bengal...   \n",
       "6   {'id': '6d86f195adaa42fb', 'fullName': 'Saidap...   \n",
       "7   {'id': '03b7ea94ef68e9d7', 'fullName': 'Mylapo...   \n",
       "8   {'id': '232099930cfd4364', 'fullName': 'Munnar...   \n",
       "9   {'id': '232099930cfd4364', 'fullName': 'Munnar...   \n",
       "10  {'id': '4ad0fa6d89777d40', 'fullName': 'Egmore...   \n",
       "11  {'id': '232099930cfd4364', 'fullName': 'Munnar...   \n",
       "12  {'id': '24dab5a953e050c5', 'fullName': 'Trivan...   \n",
       "13  {'id': '7a01d1cbca786e81', 'fullName': 'Kanaya...   \n",
       "14  {'id': '232099930cfd4364', 'fullName': 'Munnar...   \n",
       "15                                                NaN   \n",
       "16  {'id': '7a01d1cbca786e81', 'fullName': 'Kanaya...   \n",
       "17  {'id': '4e61e76e6c68fcdf', 'fullName': 'Tamil ...   \n",
       "18  {'id': '1b8680cd52a711cb', 'fullName': 'Bengal...   \n",
       "19  {'id': '4e61e76e6c68fcdf', 'fullName': 'Tamil ...   \n",
       "\n",
       "                                             hashtags   \n",
       "0           ['Malampuzha', 'Palakkad', 'KeralaFlood']  \\\n",
       "1                                                 NaN   \n",
       "2                                                 NaN   \n",
       "3   ['idukki', 'Kerala', 'periyar', 'aluva', 'Kera...   \n",
       "4                           ['IDUKKI', 'keralarains']   \n",
       "5         ['kerala', 'keralarains', 'GodsOwnCountry']   \n",
       "6                                    ['KeralaFloods']   \n",
       "7                                     ['keralarains']   \n",
       "8                          ['Kerala', 'KeralaFloods']   \n",
       "9                          ['KeralaFloods', 'Kerala']   \n",
       "10          ['KeralaFloods', 'keralaRains', 'Kerala']   \n",
       "11  ['IdukkiDam', 'KeralaFloods', 'keralaRains', '...   \n",
       "12             ['Rain', 'KeralaRain', 'KeralaFloods']   \n",
       "13                                   ['KeralaFloods']   \n",
       "14  ['KeralaRain', 'KeralaFloods', 'tourists', 'Ke...   \n",
       "15          ['keralarains', 'Kerala', 'KeralaFloods']   \n",
       "16            ['CIAL', 'keralarains', 'KeralaFloods']   \n",
       "17          ['Keralarains', 'KeralaFloods', 'Kerala']   \n",
       "18                       ['keralarains', 'Bangalore']   \n",
       "19     ['Keralarains', 'KeralaRains', 'KeralaFloods']   \n",
       "\n",
       "                                              Content  \n",
       "0                open shutter dam beautiful amp scary  \n",
       "1                                      rise stay safe  \n",
       "2                                           pic scene  \n",
       "3   dams third shutter open first time 26 year flo...  \n",
       "4                             idukki dam open 26 year  \n",
       "5                                           stay safe  \n",
       "6   national medium suffer tyranny distance covera...  \n",
       "7         heavy rain wash away railway track palakkad  \n",
       "8   avoid road like heavy rain lash hilly region f...  \n",
       "9     guideline tourist thing avoid travel heavy rain  \n",
       "10                                               safe  \n",
       "11  26 year shutter open trial run water level ris...  \n",
       "12                                  rain rain go away  \n",
       "13                                               safe  \n",
       "14      ride like extremely dangerous heavy guideline  \n",
       "15                                   get bad continue  \n",
       "16                        finally hope back home town  \n",
       "17  many 11 people report dead idukki district 6 m...  \n",
       "18                                              trend  \n",
       "19  20 dead landslide flood 22 dam open simultaneo...  "
      ]
     },
     "execution_count": 161,
     "metadata": {},
     "output_type": "execute_result"
    }
   ],
   "source": [
    "#lemmatization / removing grammar tense.\n",
    "def space(comment):\n",
    "    doc = nlp(comment)\n",
    "    return \" \".join([token.lemma_ for token in doc])\n",
    "df['Content']= df['Content'].apply(space)\n",
    "df.head(20)"
   ]
  },
  {
   "attachments": {},
   "cell_type": "markdown",
   "metadata": {},
   "source": [
    "## Analysis"
   ]
  },
  {
   "cell_type": "code",
   "execution_count": 162,
   "metadata": {},
   "outputs": [],
   "source": [
    "from vaderSentiment.vaderSentiment import SentimentIntensityAnalyzer"
   ]
  },
  {
   "cell_type": "code",
   "execution_count": 163,
   "metadata": {},
   "outputs": [],
   "source": [
    "df['Sentiment'] = ''\n",
    "df['Score'] = ''"
   ]
  },
  {
   "cell_type": "code",
   "execution_count": 164,
   "metadata": {},
   "outputs": [],
   "source": [
    "analyser = SentimentIntensityAnalyzer()\n",
    "for i in range(9182):\n",
    "    content = df['Content'][i]\n",
    "    pol = analyser.polarity_scores(content)\n",
    "    df['Score'][i] = pol['compound']\n",
    "    if pol['compound'] >= 0.1 :\n",
    "        df['Sentiment'][i] = 'Positive'\n",
    "    elif pol['compound'] <= - 0.1 :\n",
    "        df['Sentiment'][i] = 'Negative'\n",
    "    else :\n",
    "        df['Sentiment'][i] = 'Neutral'"
   ]
  },
  {
   "cell_type": "code",
   "execution_count": 165,
   "metadata": {},
   "outputs": [
    {
     "data": {
      "text/plain": [
       "0       0.1779\n",
       "1       0.4404\n",
       "2          0.0\n",
       "3          0.0\n",
       "4          0.0\n",
       "         ...  \n",
       "9177    0.9231\n",
       "9178     0.836\n",
       "9179    0.6808\n",
       "9180    0.6124\n",
       "9181   -0.8402\n",
       "Name: Score, Length: 9182, dtype: object"
      ]
     },
     "execution_count": 165,
     "metadata": {},
     "output_type": "execute_result"
    }
   ],
   "source": [
    "df['Score']"
   ]
  },
  {
   "cell_type": "code",
   "execution_count": 166,
   "metadata": {},
   "outputs": [
    {
     "data": {
      "text/plain": [
       "0       Positive\n",
       "1       Positive\n",
       "2        Neutral\n",
       "3        Neutral\n",
       "4        Neutral\n",
       "          ...   \n",
       "9177    Positive\n",
       "9178    Positive\n",
       "9179    Positive\n",
       "9180    Positive\n",
       "9181    Negative\n",
       "Name: Sentiment, Length: 9182, dtype: object"
      ]
     },
     "execution_count": 166,
     "metadata": {},
     "output_type": "execute_result"
    }
   ],
   "source": [
    "df['Sentiment']"
   ]
  },
  {
   "cell_type": "code",
   "execution_count": 167,
   "metadata": {},
   "outputs": [
    {
     "data": {
      "text/plain": [
       "Sentiment\n",
       "Positive    5562\n",
       "Neutral     1855\n",
       "Negative    1765\n",
       "Name: count, dtype: int64"
      ]
     },
     "execution_count": 167,
     "metadata": {},
     "output_type": "execute_result"
    }
   ],
   "source": [
    "df['Sentiment'].value_counts()"
   ]
  },
  {
   "attachments": {},
   "cell_type": "markdown",
   "metadata": {},
   "source": [
    "## Visualisation"
   ]
  },
  {
   "cell_type": "code",
   "execution_count": 168,
   "metadata": {},
   "outputs": [],
   "source": [
    "import matplotlib.pyplot as plt\n",
    "import seaborn as sns\n",
    "import numpy as np\n",
    "from collections import Counter"
   ]
  },
  {
   "cell_type": "code",
   "execution_count": 169,
   "metadata": {},
   "outputs": [
    {
     "data": {
      "text/plain": [
       "<Axes: xlabel='Score', ylabel='Count'>"
      ]
     },
     "execution_count": 169,
     "metadata": {},
     "output_type": "execute_result"
    },
    {
     "data": {
      "image/png": "[encoded data removed]",
      "text/plain": [
       "<Figure size 640x480 with 1 Axes>"
      ]
     },
     "metadata": {},
     "output_type": "display_data"
    }
   ],
   "source": [
    "sns.histplot(data = df['Score'], color = \"orange\")"
   ]
  },
  {
   "cell_type": "code",
   "execution_count": 170,
   "metadata": {},
   "outputs": [
    {
     "data": {
      "text/plain": [
       "Index(['date', 'rawContent', 'place', 'hashtags', 'Content', 'Sentiment',\n",
       "       'Score'],\n",
       "      dtype='object')"
      ]
     },
     "execution_count": 170,
     "metadata": {},
     "output_type": "execute_result"
    }
   ],
   "source": [
    "df.columns"
   ]
  },
  {
   "cell_type": "code",
   "execution_count": 171,
   "metadata": {},
   "outputs": [
    {
     "data": {
      "text/html": [
       "<div>\n",
       "<style scoped>\n",
       "    .dataframe tbody tr th:only-of-type {\n",
       "        vertical-align: middle;\n",
       "    }\n",
       "\n",
       "    .dataframe tbody tr th {\n",
       "        vertical-align: top;\n",
       "    }\n",
       "\n",
       "    .dataframe thead th {\n",
       "        text-align: right;\n",
       "    }\n",
       "</style>\n",
       "<table border=\"1\" class=\"dataframe\">\n",
       "  <thead>\n",
       "    <tr style=\"text-align: right;\">\n",
       "      <th></th>\n",
       "      <th>Content</th>\n",
       "      <th>totalwords</th>\n",
       "    </tr>\n",
       "  </thead>\n",
       "  <tbody>\n",
       "    <tr>\n",
       "      <th>0</th>\n",
       "      <td>open shutter dam beautiful amp scary</td>\n",
       "      <td>6</td>\n",
       "    </tr>\n",
       "    <tr>\n",
       "      <th>1</th>\n",
       "      <td>rise stay safe</td>\n",
       "      <td>3</td>\n",
       "    </tr>\n",
       "    <tr>\n",
       "      <th>2</th>\n",
       "      <td>pic scene</td>\n",
       "      <td>2</td>\n",
       "    </tr>\n",
       "    <tr>\n",
       "      <th>3</th>\n",
       "      <td>dams third shutter open first time 26 year flo...</td>\n",
       "      <td>10</td>\n",
       "    </tr>\n",
       "    <tr>\n",
       "      <th>4</th>\n",
       "      <td>idukki dam open 26 year</td>\n",
       "      <td>5</td>\n",
       "    </tr>\n",
       "    <tr>\n",
       "      <th>...</th>\n",
       "      <td>...</td>\n",
       "      <td>...</td>\n",
       "    </tr>\n",
       "    <tr>\n",
       "      <th>9177</th>\n",
       "      <td>sir please help request pls send relief materi...</td>\n",
       "      <td>12</td>\n",
       "    </tr>\n",
       "    <tr>\n",
       "      <th>9178</th>\n",
       "      <td>2 56 inch chest pm aireal survey grant peanut ...</td>\n",
       "      <td>16</td>\n",
       "    </tr>\n",
       "    <tr>\n",
       "      <th>9179</th>\n",
       "      <td>yes proof considerate ppl kerela animal hear r...</td>\n",
       "      <td>16</td>\n",
       "    </tr>\n",
       "    <tr>\n",
       "      <th>9180</th>\n",
       "      <td>use tool promotion well do people good standar...</td>\n",
       "      <td>10</td>\n",
       "    </tr>\n",
       "    <tr>\n",
       "      <th>9181</th>\n",
       "      <td>make living get make life give would know floo...</td>\n",
       "      <td>19</td>\n",
       "    </tr>\n",
       "  </tbody>\n",
       "</table>\n",
       "<p>9182 rows × 2 columns</p>\n",
       "</div>"
      ],
      "text/plain": [
       "                                                Content  totalwords\n",
       "0                  open shutter dam beautiful amp scary           6\n",
       "1                                        rise stay safe           3\n",
       "2                                             pic scene           2\n",
       "3     dams third shutter open first time 26 year flo...          10\n",
       "4                               idukki dam open 26 year           5\n",
       "...                                                 ...         ...\n",
       "9177  sir please help request pls send relief materi...          12\n",
       "9178  2 56 inch chest pm aireal survey grant peanut ...          16\n",
       "9179  yes proof considerate ppl kerela animal hear r...          16\n",
       "9180  use tool promotion well do people good standar...          10\n",
       "9181  make living get make life give would know floo...          19\n",
       "\n",
       "[9182 rows x 2 columns]"
      ]
     },
     "execution_count": 171,
     "metadata": {},
     "output_type": "execute_result"
    }
   ],
   "source": [
    "df['totalwords'] = df['Content'].str.split().str.len()\n",
    "df[['Content','totalwords']]"
   ]
  },
  {
   "cell_type": "code",
   "execution_count": 172,
   "metadata": {},
   "outputs": [
    {
     "data": {
      "text/plain": [
       "<Axes: xlabel='totalwords', ylabel='Count'>"
      ]
     },
     "execution_count": 172,
     "metadata": {},
     "output_type": "execute_result"
    },
    {
     "data": {
      "image/png": "[encoded data removed]",
      "text/plain": [
       "<Figure size 640x480 with 1 Axes>"
      ]
     },
     "metadata": {},
     "output_type": "display_data"
    }
   ],
   "source": [
    "sns.histplot(data = df['totalwords'], color = \"orange\")"
   ]
  },
  {
   "attachments": {},
   "cell_type": "markdown",
   "metadata": {},
   "source": [
    "Most tweets comprise of around 5 - 15 words"
   ]
  },
  {
   "cell_type": "code",
   "execution_count": 173,
   "metadata": {},
   "outputs": [
    {
     "data": {
      "text/html": [
       "<div>\n",
       "<style scoped>\n",
       "    .dataframe tbody tr th:only-of-type {\n",
       "        vertical-align: middle;\n",
       "    }\n",
       "\n",
       "    .dataframe tbody tr th {\n",
       "        vertical-align: top;\n",
       "    }\n",
       "\n",
       "    .dataframe thead th {\n",
       "        text-align: right;\n",
       "    }\n",
       "</style>\n",
       "<table border=\"1\" class=\"dataframe\">\n",
       "  <thead>\n",
       "    <tr style=\"text-align: right;\">\n",
       "      <th></th>\n",
       "      <th>0</th>\n",
       "      <th>1</th>\n",
       "    </tr>\n",
       "  </thead>\n",
       "  <tbody>\n",
       "    <tr>\n",
       "      <th>0</th>\n",
       "      <td>kerala</td>\n",
       "      <td>3109</td>\n",
       "    </tr>\n",
       "    <tr>\n",
       "      <th>1</th>\n",
       "      <td>help</td>\n",
       "      <td>2123</td>\n",
       "    </tr>\n",
       "    <tr>\n",
       "      <th>2</th>\n",
       "      <td>people</td>\n",
       "      <td>1587</td>\n",
       "    </tr>\n",
       "    <tr>\n",
       "      <th>3</th>\n",
       "      <td>flood</td>\n",
       "      <td>1539</td>\n",
       "    </tr>\n",
       "    <tr>\n",
       "      <th>4</th>\n",
       "      <td>relief</td>\n",
       "      <td>1364</td>\n",
       "    </tr>\n",
       "    <tr>\n",
       "      <th>5</th>\n",
       "      <td>donate</td>\n",
       "      <td>1333</td>\n",
       "    </tr>\n",
       "    <tr>\n",
       "      <th>6</th>\n",
       "      <td>please</td>\n",
       "      <td>1258</td>\n",
       "    </tr>\n",
       "    <tr>\n",
       "      <th>7</th>\n",
       "      <td>need</td>\n",
       "      <td>1185</td>\n",
       "    </tr>\n",
       "    <tr>\n",
       "      <th>8</th>\n",
       "      <td>amp</td>\n",
       "      <td>919</td>\n",
       "    </tr>\n",
       "    <tr>\n",
       "      <th>9</th>\n",
       "      <td>rescue</td>\n",
       "      <td>730</td>\n",
       "    </tr>\n",
       "  </tbody>\n",
       "</table>\n",
       "</div>"
      ],
      "text/plain": [
       "        0     1\n",
       "0  kerala  3109\n",
       "1    help  2123\n",
       "2  people  1587\n",
       "3   flood  1539\n",
       "4  relief  1364\n",
       "5  donate  1333\n",
       "6  please  1258\n",
       "7    need  1185\n",
       "8     amp   919\n",
       "9  rescue   730"
      ]
     },
     "execution_count": 173,
     "metadata": {},
     "output_type": "execute_result"
    }
   ],
   "source": [
    "wordCounter = Counter(\" \".join(df[\"Content\"]).split()).most_common(10)\n",
    "df2 = pd.DataFrame(wordCounter)\n",
    "df2"
   ]
  },
  {
   "cell_type": "code",
   "execution_count": 174,
   "metadata": {},
   "outputs": [
    {
     "data": {
      "image/png": "[encoded data removed]",
      "text/plain": [
       "<Figure size 640x480 with 1 Axes>"
      ]
     },
     "metadata": {},
     "output_type": "display_data"
    }
   ],
   "source": [
    "sns.barplot(data = df2, x= df2[0],y=df2[1], color=\"orange\")\n",
    "plt.xlabel(\"Word\")\n",
    "plt.xticks(rotation = 90)\n",
    "plt.ylabel(\"Frequency\")\n",
    "plt.title(\"Most Frequent Words\")\n",
    "plt.show()"
   ]
  },
  {
   "attachments": {},
   "cell_type": "markdown",
   "metadata": {},
   "source": [
    "## Topic Modeling"
   ]
  },
  {
   "cell_type": "code",
   "execution_count": 175,
   "metadata": {},
   "outputs": [],
   "source": [
    "import contractions\n",
    "\n",
    "import gensim\n",
    "import gensim.corpora as corpora\n",
    "from gensim.utils import simple_preprocess\n",
    "from gensim.models import CoherenceModel\n",
    "\n",
    "import spacy\n",
    "from nltk.corpus import stopwords\n",
    "\n",
    "import pyLDAvis\n",
    "import pyLDAvis.gensim_models"
   ]
  },
  {
   "cell_type": "code",
   "execution_count": 176,
   "metadata": {},
   "outputs": [],
   "source": [
    "newStopWords = ['kerala','let','hi','pls','sir','hello','u']\n",
    "stop.extend(newStopWords)\n",
    "df['Content'] = df['Content'].apply(lambda x: \" \".join(x for x in x.split() if x not in stop))"
   ]
  },
  {
   "cell_type": "code",
   "execution_count": 177,
   "metadata": {},
   "outputs": [],
   "source": [
    "def expand_contractions(text):\n",
    "   expanded_words = [] \n",
    "   for word in text.split():\n",
    "      expanded_words.append(contractions.fix(word)) \n",
    "   return ' '.join(expanded_words)"
   ]
  },
  {
   "cell_type": "code",
   "execution_count": 178,
   "metadata": {},
   "outputs": [],
   "source": [
    "def generate_tokens(tweet):\n",
    "    words=[]\n",
    "    for word in tweet.split(' '):\n",
    "    # using the if condition because we introduced extra spaces during text cleaning\n",
    "        if word!='':\n",
    "            words.append(word)\n",
    "        return words\n",
    "#storing the generated tokens in a new column named 'words'\n",
    "df['tokens']=df.Content.apply(generate_tokens)"
   ]
  },
  {
   "cell_type": "code",
   "execution_count": 179,
   "metadata": {},
   "outputs": [
    {
     "name": "stdout",
     "output_type": "stream",
     "text": [
      "Dictionary<2218 unique tokens: ['open', 'rise', 'pic', 'dams', 'idukki']...>\n"
     ]
    }
   ],
   "source": [
    "def create_dictionary(words):\n",
    "    return corpora.Dictionary(words)\n",
    "#passing the dataframe column having tokens as the argument\n",
    "id2word=create_dictionary(df.tokens)\n",
    "print(id2word)"
   ]
  },
  {
   "cell_type": "code",
   "execution_count": 180,
   "metadata": {},
   "outputs": [
    {
     "name": "stdout",
     "output_type": "stream",
     "text": [
      "['open']\n",
      "[(0, 1)]\n"
     ]
    }
   ],
   "source": [
    "def create_document_matrix(tokens,id2word):\n",
    "    corpus = []\n",
    "    for text in tokens:\n",
    "       corpus.append(id2word.doc2bow(text))\n",
    "    return corpus\n",
    "#passing the dataframe column having tokens and dictionary\n",
    "corpus=create_document_matrix(df.tokens,id2word)\n",
    "print(df.tokens[0])\n",
    "print(corpus[0])"
   ]
  },
  {
   "cell_type": "code",
   "execution_count": 181,
   "metadata": {},
   "outputs": [],
   "source": [
    "lda_model = gensim.models.ldamodel.LdaModel(corpus=corpus, id2word=id2word, num_topics=5, random_state=100 )"
   ]
  },
  {
   "cell_type": "code",
   "execution_count": 182,
   "metadata": {},
   "outputs": [
    {
     "data": {
      "text/html": [
       "<div>\n",
       "<style scoped>\n",
       "    .dataframe tbody tr th:only-of-type {\n",
       "        vertical-align: middle;\n",
       "    }\n",
       "\n",
       "    .dataframe tbody tr th {\n",
       "        vertical-align: top;\n",
       "    }\n",
       "\n",
       "    .dataframe thead th {\n",
       "        text-align: right;\n",
       "    }\n",
       "</style>\n",
       "<table border=\"1\" class=\"dataframe\">\n",
       "  <thead>\n",
       "    <tr style=\"text-align: right;\">\n",
       "      <th></th>\n",
       "      <th>Topic # 01</th>\n",
       "      <th>Topic # 02</th>\n",
       "      <th>Topic # 03</th>\n",
       "      <th>Topic # 04</th>\n",
       "      <th>Topic # 05</th>\n",
       "    </tr>\n",
       "  </thead>\n",
       "  <tbody>\n",
       "    <tr>\n",
       "      <th>0</th>\n",
       "      <td>flood</td>\n",
       "      <td>please</td>\n",
       "      <td>dear</td>\n",
       "      <td>thank</td>\n",
       "      <td>donate</td>\n",
       "    </tr>\n",
       "    <tr>\n",
       "      <th>1</th>\n",
       "      <td>people</td>\n",
       "      <td>need</td>\n",
       "      <td>small</td>\n",
       "      <td>help</td>\n",
       "      <td>pray</td>\n",
       "    </tr>\n",
       "    <tr>\n",
       "      <th>2</th>\n",
       "      <td>karnataka</td>\n",
       "      <td>good</td>\n",
       "      <td>govt</td>\n",
       "      <td>cm</td>\n",
       "      <td>great</td>\n",
       "    </tr>\n",
       "    <tr>\n",
       "      <th>3</th>\n",
       "      <td>friend</td>\n",
       "      <td>anyone</td>\n",
       "      <td>update</td>\n",
       "      <td>guy</td>\n",
       "      <td>indian</td>\n",
       "    </tr>\n",
       "    <tr>\n",
       "      <th>4</th>\n",
       "      <td>heavy</td>\n",
       "      <td>hope</td>\n",
       "      <td>rt</td>\n",
       "      <td>state</td>\n",
       "      <td>relief</td>\n",
       "    </tr>\n",
       "  </tbody>\n",
       "</table>\n",
       "</div>"
      ],
      "text/plain": [
       "  Topic # 01 Topic # 02 Topic # 03 Topic # 04 Topic # 05\n",
       "0      flood     please       dear      thank     donate\n",
       "1     people       need      small       help       pray\n",
       "2  karnataka       good       govt         cm      great\n",
       "3     friend     anyone     update        guy     indian\n",
       "4      heavy       hope         rt      state     relief"
      ]
     },
     "execution_count": 182,
     "metadata": {},
     "output_type": "execute_result"
    }
   ],
   "source": [
    "def get_lda_topics(model, num_topics, top_n_words):\n",
    "    word_dict = {}\n",
    "    for i in range(num_topics):\n",
    "        word_dict['Topic # ' + '{:02d}'.format(i+1)] = [i[0] for i in model.show_topic(i, topn = top_n_words)]\n",
    " \n",
    "    return pd.DataFrame(word_dict)\n",
    "get_lda_topics(lda_model,5,5)"
   ]
  },
  {
   "cell_type": "code",
   "execution_count": 183,
   "metadata": {},
   "outputs": [
    {
     "data": {
      "text/html": [
       "\n",
       "<link rel=\"stylesheet\" type=\"text/css\" href=\"https://cdn.jsdelivr.net/gh/bmabey/pyLDAvis@3.4.0/pyLDAvis/js/ldavis.v1.0.0.css\">\n",
       "\n",
       "\n",
       "<div id=\"ldavis_el2420814342417289122193632560\" style=\"background-color:white;\"></div>\n",
       "<script type=\"text/javascript\">\n",
       "\n",
       "var ldavis_el2420814342417289122193632560_data = {\"mdsDat\": {\"x\": [-0.10076259516067512, -0.08767952325569865, -0.27952642996027344, 0.22232151331714098, 0.24564703505950625], \"y\": [0.27354106628393593, -0.28912235464233066, -0.0045082959829135195, -0.1544133343906101, 0.17450291873191837], \"topics\": [1, 2, 3, 4, 5], \"cluster\": [1, 1, 1, 1, 1], \"Freq\": [21.67454421564361, 20.803616507823268, 19.22570427815782, 19.198683893201142, 19.097451105174162]}, \"tinfo\": {\"Term\": [\"please\", \"thank\", \"need\", \"donate\", \"flood\", \"people\", \"help\", \"dear\", \"pray\", \"cm\", \"karnataka\", \"great\", \"guy\", \"indian\", \"state\", \"good\", \"relief\", \"india\", \"many\", \"friend\", \"one\", \"small\", \"govt\", \"update\", \"request\", \"pm\", \"god\", \"big\", \"anyone\", \"hope\", \"small\", \"update\", \"govt\", \"congress\", \"contribution\", \"declare\", \"face\", \"minister\", \"donation\", \"come\", \"would\", \"ind\", \"make\", \"visual\", \"rt\", \"real\", \"fisherman\", \"superstar\", \"plz\", \"nice\", \"watch\", \"mega\", \"water\", \"gujarat\", \"ndrf\", \"family\", \"operation\", \"commie\", \"nature\", \"collect\", \"dear\", \"pray\", \"great\", \"indian\", \"donate\", \"many\", \"relief\", \"india\", \"rescue\", \"request\", \"situation\", \"live\", \"urgently\", \"part\", \"1\", \"chief\", \"government\", \"sad\", \"twitterati\", \"use\", \"railway\", \"take\", \"receive\", \"believe\", \"appeal\", \"urgent\", \"telangana\", \"remember\", \"say\", \"maharashtra\", \"really\", \"first\", \"way\", \"road\", \"people\", \"karnataka\", \"flood\", \"friend\", \"air\", \"contribute\", \"heavy\", \"may\", \"well\", \"want\", \"hey\", \"yes\", \"even\", \"someone\", \"true\", \"disaster\", \"death\", \"mp\", \"rain\", \"bjp\", \"train\", \"absolutely\", \"another\", \"himachal\", \"available\", \"team\", \"ask\", \"verify\", \"find\", \"volunteer\", \"bad\", \"massive\", \"save\", \"please\", \"good\", \"need\", \"hope\", \"anyone\", \"see\", \"location\", \"thought\", \"salute\", \"humble\", \"get\", \"kochi\", \"think\", \"stay\", \"two\", \"list\", \"give\", \"late\", \"\\u2019\", \"go\", \"army\", \"kindly\", \"finally\", \"keralite\", \"red\", \"announce\", \"keep\", \"mulayathur\", \"supply\", \"challenge\", \"acute\", \"imd\", \"thank\", \"cm\", \"guy\", \"state\", \"help\", \"one\", \"pm\", \"big\", \"god\", \"heart\", \"respect\", \"bit\", \"time\", \"know\", \"shame\", \"national\", \"every\", \"much\", \"stop\", \"rss\", \"prayer\", \"food\", \"important\", \"always\", \"also\", \"man\", \"rs\", \"share\", \"view\", \"current\"], \"Freq\": [277.0, 186.0, 163.0, 149.0, 104.0, 99.0, 88.0, 75.0, 62.0, 55.0, 55.0, 56.0, 53.0, 53.0, 49.0, 45.0, 45.0, 42.0, 41.0, 38.0, 37.0, 39.0, 35.0, 34.0, 33.0, 30.0, 30.0, 28.0, 27.0, 27.0, 39.13524185556682, 33.28443415192695, 34.408306802206475, 23.814164535697692, 26.805149796937087, 20.67895375482783, 25.177356211171873, 19.199245374966562, 21.39126079660409, 25.085279875394466, 20.935738368506563, 17.387683423412398, 27.390676583704337, 17.111907083929395, 28.927129187994133, 19.369790296686908, 16.026618363017576, 15.025127699114213, 26.781404134904154, 13.592776690587922, 13.537671308535929, 13.14071486200702, 13.091898791623256, 12.854790448394239, 12.346647692355695, 12.514079367847788, 12.349345223212222, 12.349335061280913, 18.771016046740687, 15.591436426152585, 71.05044260195052, 61.51307939760555, 55.65695169296119, 52.62241749898824, 147.32608217670676, 40.64378584334424, 44.357780921781, 41.62334561677019, 23.92356904280197, 32.57990326454189, 20.44668939861418, 18.776019390741006, 17.708258662713938, 17.25147433176155, 16.525325604853954, 18.472395017265708, 14.743447663842632, 14.530872297346804, 14.558323372558885, 12.432547540318696, 11.472944527440516, 16.075826329424757, 11.673176264683871, 11.205099920332282, 10.457988924969994, 14.469726066957413, 10.38886690655345, 9.982504275007859, 9.890745915007631, 10.681384585106219, 10.02409452930621, 11.349523308667454, 12.54678352416421, 10.461019635751185, 98.53784229218823, 54.37626225612326, 103.71072201637105, 37.97424975293724, 20.237009672844373, 20.123452019063237, 23.13357222605067, 17.668227050785266, 16.64961211028085, 21.885691773888716, 15.428564959682737, 15.112988092326203, 16.903111667637067, 12.947806317773503, 12.713718416214812, 12.1686810110671, 19.41249162381436, 12.05634186090245, 14.641837730952034, 11.854528326148664, 11.709875476177364, 10.668240076965535, 10.454618447313596, 10.888721218233883, 10.888439331721393, 10.11976349247795, 9.572586535922948, 9.239554829605582, 8.617162521030686, 12.02895789731421, 11.685078476891242, 11.386576229478692, 9.952497444254782, 275.5324339602754, 44.939432098271475, 160.21724501648157, 26.78417087100182, 26.984806384463486, 24.18417224675643, 21.810154722635957, 21.553789031435308, 19.15184341043304, 15.913413237527944, 25.675318229345148, 15.73982207220408, 16.904399981884485, 16.58340443577854, 12.779957686262977, 15.013968133902907, 14.366361964023195, 12.404660689554168, 11.920616773325797, 11.87869271485402, 11.030814350440725, 12.68348178171087, 9.163849304755544, 9.061866336270992, 14.960948118978825, 8.00991156629559, 7.719861137089113, 7.580897375098001, 7.582772886321354, 7.545743813948226, 9.919806343791773, 9.994142705735213, 185.53353242139008, 55.09889760887956, 52.48281066862685, 48.38580744119703, 87.02963068669753, 37.13929853959799, 29.720501911855475, 27.25847365989819, 29.78955922273203, 19.255014591259197, 17.832842600710585, 16.985487256240415, 21.112861374563984, 22.72268301410173, 15.571031712027375, 15.86129544579921, 25.135921836380312, 17.33632672168874, 14.262691956408808, 12.020275557898344, 17.05415711685793, 11.760242711985484, 11.717904817502536, 11.022057175798718, 12.653897548440208, 10.425791576409242, 9.934969425458844, 22.27778592841496, 9.718178795957076, 9.369362048772876], \"Total\": [277.0, 186.0, 163.0, 149.0, 104.0, 99.0, 88.0, 75.0, 62.0, 55.0, 55.0, 56.0, 53.0, 53.0, 49.0, 45.0, 45.0, 42.0, 41.0, 38.0, 37.0, 39.0, 35.0, 34.0, 33.0, 30.0, 30.0, 28.0, 27.0, 27.0, 39.93196838826349, 34.07328409317908, 35.332195625609614, 24.472040028307323, 27.590130759381598, 21.3361801709505, 26.010000476987344, 19.854961801876183, 22.177516752462296, 26.007732257952874, 21.722658827261654, 18.05232746487722, 28.446528988109755, 17.792337701534827, 30.108355751874303, 20.164366585174676, 16.690334878334312, 15.68985399974973, 27.971834907606166, 14.24904110996677, 14.20952424106861, 13.796308944238906, 13.752369954324662, 13.511156142721916, 13.002288535879762, 13.179575254824904, 13.01304368801016, 13.013039067287957, 19.82680999136434, 16.526119719238963, 75.40373069904408, 62.247586695752446, 56.34352406843178, 53.29961431191597, 149.32404525687352, 41.32675734353659, 45.29471103123923, 42.579412794089144, 24.594166217763735, 33.53500913830687, 21.13800243307147, 19.44293291920627, 18.366844533133037, 17.92260199994389, 17.18346087732249, 19.273370139838423, 15.405487711568417, 15.200020916973443, 15.27467374848306, 13.104054581041982, 12.132476905432679, 17.00213414745888, 12.35895047842292, 11.863640922234136, 11.128831988297474, 15.402841761547645, 11.059804808192675, 10.644108623261726, 10.549306383478639, 11.397399640754392, 10.701928984886635, 12.142153542059285, 13.493425854426766, 11.395845879788473, 99.26240994932928, 55.0376449935507, 104.99463004883862, 38.93038743710128, 20.88834340115707, 20.78764880523502, 23.96760911432917, 18.33092773984058, 17.308198452813695, 22.803730274095212, 16.086718444380903, 15.766182282380518, 17.692963507903528, 13.598153218217094, 13.36475817637493, 12.823865680016839, 20.457808680842064, 12.70762308407428, 15.448102592543902, 12.508239620465716, 12.367553098403752, 11.31922382816623, 11.108657351216069, 11.590157254100315, 11.59005107647501, 10.776474216486983, 10.223839865002404, 9.891335410890433, 9.272041899757419, 12.954125405637654, 12.72150710712586, 12.47324225916472, 11.001090222951944, 277.30176271134883, 45.63496202213683, 163.15552085398272, 27.45679680040485, 27.67098793293062, 24.859811021227966, 22.470383041600794, 22.222980982113036, 19.83169318550162, 16.577979967247032, 26.755694565519626, 16.418629583547688, 17.709999111734128, 17.412592800904008, 13.447902573384097, 15.811446546071233, 15.132482477395868, 13.071098380035997, 12.590095554953086, 12.546286720440765, 11.700556892007647, 13.590553395529978, 9.8306534021291, 9.722387410880417, 16.181801645934886, 8.670121911050092, 8.387777360668743, 8.24127302765044, 8.24678030633664, 8.209448514002219, 10.909440052047485, 18.318741014114295, 186.3050082183401, 55.77799446194278, 53.32010494916237, 49.19881020724376, 88.94469388196589, 37.96336439068679, 30.525752981420112, 28.062127524024614, 30.73812610928896, 19.92502074196361, 18.50012094108649, 17.6498474286244, 21.94204701431219, 23.6742058774329, 16.237210874104235, 16.545721070431785, 26.220907863834377, 18.147871733236922, 14.93267924366209, 12.68409252033044, 17.99918279916528, 12.42344441794187, 12.381652833151067, 11.686471250686411, 13.455566814325103, 11.091803468432593, 10.601275025559879, 23.78581617386655, 10.385627522664645, 10.036239526620223], \"Category\": [\"Default\", \"Default\", \"Default\", \"Default\", \"Default\", \"Default\", \"Default\", \"Default\", \"Default\", \"Default\", \"Default\", \"Default\", \"Default\", \"Default\", \"Default\", \"Default\", \"Default\", \"Default\", \"Default\", \"Default\", \"Default\", \"Default\", \"Default\", \"Default\", \"Default\", \"Default\", \"Default\", \"Default\", \"Default\", \"Default\", \"Topic1\", \"Topic1\", \"Topic1\", \"Topic1\", \"Topic1\", \"Topic1\", \"Topic1\", \"Topic1\", \"Topic1\", \"Topic1\", \"Topic1\", \"Topic1\", \"Topic1\", \"Topic1\", \"Topic1\", \"Topic1\", \"Topic1\", \"Topic1\", \"Topic1\", \"Topic1\", \"Topic1\", \"Topic1\", \"Topic1\", \"Topic1\", \"Topic1\", \"Topic1\", \"Topic1\", \"Topic1\", \"Topic1\", \"Topic1\", \"Topic1\", \"Topic2\", \"Topic2\", \"Topic2\", \"Topic2\", \"Topic2\", \"Topic2\", \"Topic2\", \"Topic2\", \"Topic2\", \"Topic2\", \"Topic2\", \"Topic2\", \"Topic2\", \"Topic2\", \"Topic2\", \"Topic2\", \"Topic2\", \"Topic2\", \"Topic2\", \"Topic2\", \"Topic2\", \"Topic2\", \"Topic2\", \"Topic2\", \"Topic2\", \"Topic2\", \"Topic2\", \"Topic2\", \"Topic2\", \"Topic2\", \"Topic2\", \"Topic2\", \"Topic2\", \"Topic3\", \"Topic3\", \"Topic3\", \"Topic3\", \"Topic3\", \"Topic3\", \"Topic3\", \"Topic3\", \"Topic3\", \"Topic3\", \"Topic3\", \"Topic3\", \"Topic3\", \"Topic3\", \"Topic3\", \"Topic3\", \"Topic3\", \"Topic3\", \"Topic3\", \"Topic3\", \"Topic3\", \"Topic3\", \"Topic3\", \"Topic3\", \"Topic3\", \"Topic3\", \"Topic3\", \"Topic3\", \"Topic3\", \"Topic3\", \"Topic3\", \"Topic3\", \"Topic3\", \"Topic4\", \"Topic4\", \"Topic4\", \"Topic4\", \"Topic4\", \"Topic4\", \"Topic4\", \"Topic4\", \"Topic4\", \"Topic4\", \"Topic4\", \"Topic4\", \"Topic4\", \"Topic4\", \"Topic4\", \"Topic4\", \"Topic4\", \"Topic4\", \"Topic4\", \"Topic4\", \"Topic4\", \"Topic4\", \"Topic4\", \"Topic4\", \"Topic4\", \"Topic4\", \"Topic4\", \"Topic4\", \"Topic4\", \"Topic4\", \"Topic4\", \"Topic4\", \"Topic5\", \"Topic5\", \"Topic5\", \"Topic5\", \"Topic5\", \"Topic5\", \"Topic5\", \"Topic5\", \"Topic5\", \"Topic5\", \"Topic5\", \"Topic5\", \"Topic5\", \"Topic5\", \"Topic5\", \"Topic5\", \"Topic5\", \"Topic5\", \"Topic5\", \"Topic5\", \"Topic5\", \"Topic5\", \"Topic5\", \"Topic5\", \"Topic5\", \"Topic5\", \"Topic5\", \"Topic5\", \"Topic5\", \"Topic5\"], \"logprob\": [30.0, 29.0, 28.0, 27.0, 26.0, 25.0, 24.0, 23.0, 22.0, 21.0, 20.0, 19.0, 18.0, 17.0, 16.0, 15.0, 14.0, 13.0, 12.0, 11.0, 10.0, 9.0, 8.0, 7.0, 6.0, 5.0, 4.0, 3.0, 2.0, 1.0, -3.9258, -4.0877, -4.0545, -4.4225, -4.3042, -4.5637, -4.3669, -4.6379, -4.5298, -4.3705, -4.5513, -4.737, -4.2826, -4.753, -4.228, -4.6291, -4.8186, -4.8831, -4.3051, -4.9833, -4.9873, -5.0171, -5.0208, -5.0391, -5.0794, -5.066, -5.0792, -5.0792, -4.6605, -4.8461, -3.3294, -3.4325, -3.5326, -3.5887, -2.5591, -3.8469, -3.7595, -3.8231, -4.3769, -4.0681, -4.534, -4.6192, -4.6778, -4.7039, -4.7469, -4.6355, -4.861, -4.8755, -4.8736, -5.0315, -5.1118, -4.7745, -5.0945, -5.1354, -5.2044, -4.8797, -5.2111, -5.251, -5.2602, -5.1833, -5.2468, -5.1226, -5.0223, -5.2041, -2.8825, -3.477, -2.8313, -3.836, -4.4654, -4.471, -4.3316, -4.6011, -4.6605, -4.3871, -4.7367, -4.7574, -4.6454, -4.912, -4.9302, -4.974, -4.507, -4.9833, -4.789, -5.0002, -5.0125, -5.1056, -5.1259, -5.0852, -5.0852, -5.1584, -5.214, -5.2494, -5.3192, -4.9856, -5.0146, -5.0405, -5.1751, -1.8528, -3.6662, -2.395, -4.1837, -4.1762, -4.2858, -4.3891, -4.401, -4.5191, -4.7043, -4.226, -4.7153, -4.6439, -4.6631, -4.9236, -4.7625, -4.8066, -4.9534, -4.9932, -4.9968, -5.0708, -4.9312, -5.2562, -5.2674, -4.7661, -5.3908, -5.4277, -5.4459, -5.4456, -5.4505, -5.177, -5.1695, -2.243, -3.4571, -3.5057, -3.587, -3.0, -3.8515, -4.0744, -4.1609, -4.0721, -4.5085, -4.5852, -4.6339, -4.4163, -4.3429, -4.7208, -4.7023, -4.2419, -4.6134, -4.8086, -4.9796, -4.6298, -5.0015, -5.0051, -5.0663, -4.9283, -5.1219, -5.1702, -4.3626, -5.1922, -5.2288], \"loglift\": [30.0, 29.0, 28.0, 27.0, 26.0, 25.0, 24.0, 23.0, 22.0, 21.0, 20.0, 19.0, 18.0, 17.0, 16.0, 15.0, 14.0, 13.0, 12.0, 11.0, 10.0, 9.0, 8.0, 7.0, 6.0, 5.0, 4.0, 3.0, 2.0, 1.0, 1.5089, 1.5056, 1.5025, 1.5018, 1.5002, 1.4977, 1.4965, 1.4954, 1.4929, 1.4929, 1.4921, 1.4915, 1.4912, 1.49, 1.489, 1.4888, 1.4885, 1.4857, 1.4855, 1.4819, 1.4806, 1.4803, 1.4798, 1.4792, 1.4773, 1.4772, 1.4767, 1.4767, 1.4743, 1.4708, 1.4696, 1.5582, 1.5578, 1.5573, 1.5566, 1.5534, 1.5491, 1.5473, 1.5424, 1.5411, 1.5368, 1.5351, 1.5335, 1.5319, 1.531, 1.5276, 1.5261, 1.525, 1.522, 1.5174, 1.5141, 1.514, 1.513, 1.5129, 1.5079, 1.5075, 1.5075, 1.5059, 1.5056, 1.5052, 1.5046, 1.5025, 1.4973, 1.4845, 1.6416, 1.6368, 1.6366, 1.6241, 1.6172, 1.6164, 1.6135, 1.6121, 1.6101, 1.6078, 1.6071, 1.6066, 1.6033, 1.5999, 1.599, 1.5965, 1.5965, 1.5963, 1.5953, 1.5952, 1.5943, 1.5897, 1.5882, 1.5865, 1.5865, 1.586, 1.5831, 1.5808, 1.5757, 1.5748, 1.5639, 1.5578, 1.5488, 1.6439, 1.635, 1.6322, 1.6255, 1.6252, 1.6228, 1.6205, 1.6198, 1.6154, 1.6094, 1.6091, 1.6081, 1.6038, 1.6015, 1.5994, 1.5986, 1.5984, 1.598, 1.5957, 1.5956, 1.5914, 1.5813, 1.5801, 1.58, 1.5719, 1.5711, 1.5673, 1.5668, 1.5664, 1.566, 1.5552, 1.0444, 1.6515, 1.6434, 1.6398, 1.639, 1.6338, 1.6337, 1.6289, 1.6266, 1.6243, 1.6214, 1.6189, 1.6172, 1.6171, 1.6146, 1.6137, 1.6134, 1.6134, 1.6099, 1.6097, 1.6019, 1.6017, 1.6008, 1.6005, 1.5971, 1.5942, 1.5937, 1.5907, 1.5901, 1.5892, 1.5869]}, \"token.table\": {\"Topic\": [2, 3, 4, 3, 5, 5, 4, 3, 4, 2, 4, 3, 3, 3, 5, 2, 5, 5, 3, 4, 2, 5, 1, 1, 1, 1, 3, 1, 5, 1, 2, 4, 5, 3, 1, 3, 2, 3, 4, 1, 3, 5, 1, 1, 4, 3, 2, 1, 1, 3, 5, 3, 4, 4, 4, 5, 4, 2, 1, 2, 1, 5, 5, 3, 4, 5, 3, 3, 4, 4, 4, 5, 5, 1, 2, 2, 3, 4, 4, 4, 5, 4, 4, 4, 2, 4, 2, 1, 5, 2, 3, 5, 3, 1, 1, 3, 5, 4, 5, 1, 1, 2, 4, 1, 5, 1, 2, 3, 3, 4, 1, 4, 5, 2, 5, 2, 3, 1, 2, 2, 3, 4, 2, 2, 2, 2, 5, 2, 5, 5, 1, 2, 4, 2, 3, 2, 4, 5, 3, 5, 2, 1, 3, 5, 4, 5, 1, 4, 2, 3, 2, 5, 4, 4, 5, 3, 3, 2, 4, 1, 2, 2, 2, 3, 5, 1, 3, 3, 1, 1, 2, 3, 1, 3, 4], \"Freq\": [0.9893234035546001, 0.9717980814751725, 0.9166373298988154, 0.9574718117135196, 0.9661428744985981, 0.9412593214871349, 0.9227090555444186, 0.900198798453829, 0.9757512115376231, 0.8985668945775713, 0.9401261924134415, 0.9781060865625802, 0.9490898640064951, 0.9432844629924616, 0.07860703858270514, 0.9272027088568104, 0.9621508553435478, 0.9631811305308802, 0.9593676139978846, 0.9744868959656695, 0.9339311116530501, 0.9860519463016261, 0.968164352662502, 0.9612525902697756, 0.9221519998480198, 0.9807110470659044, 0.9621097694782749, 0.9786108023724776, 0.8967502196543147, 0.9415979732273392, 0.026523886569784202, 0.013261943284892101, 0.013261943284892101, 0.9287407217661956, 0.9842436570999614, 0.9357552784336589, 0.9844362289216342, 0.006696845094704995, 0.006696845094704995, 0.9469049323418249, 0.9608339491801937, 0.953437620460185, 0.9611687636114827, 0.986374731252499, 0.915503744446, 0.9706599794631497, 0.9059348460630998, 0.9586386442592932, 0.009524296619120869, 0.9905268483885703, 0.9659156990850031, 0.9761012541011959, 0.9717557485316229, 0.9251621484387963, 0.9564582945844256, 0.9759866262938552, 0.9860860622206977, 0.9736790084702138, 0.9622951361493083, 0.9939030425570371, 0.962167845791845, 0.9752418913949811, 0.9535749169878932, 0.9596284673321596, 0.01124294161186333, 0.9781359202321097, 0.9324462320803225, 0.9490811693783074, 0.9833630702180776, 0.9651356818871213, 0.5458890429366932, 0.3821223300556852, 0.9691759381163381, 0.9417068260630305, 0.9863921844838223, 0.9943786776736772, 0.981146631661433, 0.9537687585167585, 0.9256985573243063, 0.956546773457789, 0.9715214997739131, 0.9745027694657795, 0.9180559774783787, 0.9486798033496272, 0.9772188218183518, 0.9790665321223077, 0.9651324290381654, 0.9491491918499306, 0.9015666413906558, 0.992093322473371, 0.8818877859858566, 0.08017161690780515, 0.9819470272024837, 0.9422810153456711, 0.956939640055344, 0.9443150714029989, 0.9367489615250778, 0.9707238157453417, 0.9670173896859037, 0.9582983852811189, 0.9229144520894187, 0.012258242868716133, 0.9806594294972907, 0.9825222547928103, 0.9746238404801887, 0.9221516724066984, 0.9485229879039451, 0.9973564015878394, 0.003606179745207491, 0.9953056096772674, 0.9652566622527183, 0.035750246750100675, 0.9827767399631347, 0.9960225494851298, 0.9444873242127628, 0.9066574027496744, 0.9709930336195345, 0.9422562280716149, 0.9344109846105403, 0.9709562329706233, 0.06179781595896741, 0.9269672393845111, 0.9714158452110163, 0.93948684234074, 0.9840462504095241, 0.9758411725568243, 0.9729666123438262, 0.8775127450377223, 0.943282763242139, 0.9460668929027476, 0.9631877688370509, 0.9868407472551511, 0.9580624217144682, 0.09090008169496387, 0.9090008169496386, 0.9479296208195345, 0.9654136139452643, 0.9853909100557073, 0.04204186195211156, 0.9249209629464544, 0.9461631988796156, 0.97666109571154, 0.9560121724900288, 0.9756333496238238, 0.9763049187664581, 0.9375410649058207, 0.9560318407194399, 0.9700755571059629, 0.9410583319266037, 0.9279472858294365, 0.9041750892920268, 0.9983628555063713, 0.9599097037072293, 0.9899661984009926, 0.957066584822386, 0.9702808554384786, 0.9727074615521499, 0.9820177011302557, 0.9666934995297647, 0.9685007148050652, 0.9089231855221831, 0.9800268068654219, 0.9157471014628366, 0.9098872524422672, 0.9628691167844132, 0.9554674762346447, 0.926345826077736, 0.9647544386626848, 0.9852546617667156, 0.9452916146945228, 0.9634321291160548, 0.982193499014128, 0.9667324873530341, 0.951403436249956, 0.9531301766235654], \"Term\": [\"1\", \"absolutely\", \"acute\", \"air\", \"also\", \"always\", \"announce\", \"another\", \"anyone\", \"appeal\", \"army\", \"ask\", \"available\", \"bad\", \"bad\", \"believe\", \"big\", \"bit\", \"bjp\", \"challenge\", \"chief\", \"cm\", \"collect\", \"come\", \"commie\", \"congress\", \"contribute\", \"contribution\", \"current\", \"dear\", \"dear\", \"dear\", \"dear\", \"death\", \"declare\", \"disaster\", \"donate\", \"donate\", \"donate\", \"donation\", \"even\", \"every\", \"face\", \"family\", \"finally\", \"find\", \"first\", \"fisherman\", \"flood\", \"flood\", \"food\", \"friend\", \"get\", \"give\", \"go\", \"god\", \"good\", \"government\", \"govt\", \"great\", \"gujarat\", \"guy\", \"heart\", \"heavy\", \"help\", \"help\", \"hey\", \"himachal\", \"hope\", \"humble\", \"imd\", \"imd\", \"important\", \"ind\", \"india\", \"indian\", \"karnataka\", \"keep\", \"keralite\", \"kindly\", \"know\", \"kochi\", \"late\", \"list\", \"live\", \"location\", \"maharashtra\", \"make\", \"man\", \"many\", \"massive\", \"massive\", \"may\", \"mega\", \"minister\", \"mp\", \"much\", \"mulayathur\", \"national\", \"nature\", \"ndrf\", \"need\", \"need\", \"nice\", \"one\", \"operation\", \"part\", \"people\", \"please\", \"please\", \"plz\", \"plz\", \"pm\", \"pray\", \"prayer\", \"railway\", \"rain\", \"real\", \"really\", \"receive\", \"red\", \"red\", \"relief\", \"remember\", \"request\", \"rescue\", \"respect\", \"road\", \"rs\", \"rss\", \"rt\", \"sad\", \"salute\", \"save\", \"save\", \"say\", \"see\", \"shame\", \"share\", \"share\", \"situation\", \"small\", \"someone\", \"state\", \"stay\", \"stop\", \"superstar\", \"supply\", \"take\", \"team\", \"telangana\", \"thank\", \"think\", \"thought\", \"time\", \"train\", \"true\", \"twitterati\", \"two\", \"update\", \"urgent\", \"urgently\", \"use\", \"verify\", \"view\", \"visual\", \"volunteer\", \"want\", \"watch\", \"water\", \"way\", \"well\", \"would\", \"yes\", \"\\u2019\"]}, \"R\": 30, \"lambda.step\": 0.01, \"plot.opts\": {\"xlab\": \"PC1\", \"ylab\": \"PC2\"}, \"topic.order\": [3, 5, 1, 2, 4]};\n",
       "\n",
       "function LDAvis_load_lib(url, callback){\n",
       "  var s = document.createElement('script');\n",
       "  s.src = url;\n",
       "  s.async = true;\n",
       "  s.onreadystatechange = s.onload = callback;\n",
       "  s.onerror = function(){console.warn(\"failed to load library \" + url);};\n",
       "  document.getElementsByTagName(\"head\")[0].appendChild(s);\n",
       "}\n",
       "\n",
       "if(typeof(LDAvis) !== \"undefined\"){\n",
       "   // already loaded: just create the visualization\n",
       "   !function(LDAvis){\n",
       "       new LDAvis(\"#\" + \"ldavis_el2420814342417289122193632560\", ldavis_el2420814342417289122193632560_data);\n",
       "   }(LDAvis);\n",
       "}else if(typeof define === \"function\" && define.amd){\n",
       "   // require.js is available: use it to load d3/LDAvis\n",
       "   require.config({paths: {d3: \"https://d3js.org/d3.v5\"}});\n",
       "   require([\"d3\"], function(d3){\n",
       "      window.d3 = d3;\n",
       "      LDAvis_load_lib(\"https://cdn.jsdelivr.net/gh/bmabey/pyLDAvis@3.4.0/pyLDAvis/js/ldavis.v3.0.0.js\", function(){\n",
       "        new LDAvis(\"#\" + \"ldavis_el2420814342417289122193632560\", ldavis_el2420814342417289122193632560_data);\n",
       "      });\n",
       "    });\n",
       "}else{\n",
       "    // require.js not available: dynamically load d3 & LDAvis\n",
       "    LDAvis_load_lib(\"https://d3js.org/d3.v5.js\", function(){\n",
       "         LDAvis_load_lib(\"https://cdn.jsdelivr.net/gh/bmabey/pyLDAvis@3.4.0/pyLDAvis/js/ldavis.v3.0.0.js\", function(){\n",
       "                 new LDAvis(\"#\" + \"ldavis_el2420814342417289122193632560\", ldavis_el2420814342417289122193632560_data);\n",
       "            })\n",
       "         });\n",
       "}\n",
       "</script>"
      ],
      "text/plain": [
       "PreparedData(topic_coordinates=              x         y  topics  cluster       Freq\n",
       "topic                                                \n",
       "2     -0.100763  0.273541       1        1  21.674544\n",
       "4     -0.087680 -0.289122       2        1  20.803617\n",
       "0     -0.279526 -0.004508       3        1  19.225704\n",
       "1      0.222322 -0.154413       4        1  19.198684\n",
       "3      0.245647  0.174503       5        1  19.097451, topic_info=        Term        Freq       Total Category  logprob  loglift\n",
       "47    please  277.000000  277.000000  Default  30.0000  30.0000\n",
       "150    thank  186.000000  186.000000  Default  29.0000  29.0000\n",
       "79      need  163.000000  163.000000  Default  28.0000  28.0000\n",
       "140   donate  149.000000  149.000000  Default  27.0000  27.0000\n",
       "50     flood  104.000000  104.000000  Default  26.0000  26.0000\n",
       "..       ...         ...         ...      ...      ...      ...\n",
       "630      man   10.425792   11.091803   Topic5  -5.1219   1.5937\n",
       "640       rs    9.934969   10.601275   Topic5  -5.1702   1.5907\n",
       "255    share   22.277786   23.785816   Topic5  -4.3626   1.5901\n",
       "592     view    9.718179   10.385628   Topic5  -5.1922   1.5892\n",
       "269  current    9.369362   10.036240   Topic5  -5.2288   1.5869\n",
       "\n",
       "[189 rows x 6 columns], token_table=      Topic      Freq        Term\n",
       "term                             \n",
       "790       2  0.989323           1\n",
       "546       3  0.971798  absolutely\n",
       "2177      4  0.916637       acute\n",
       "714       3  0.957472         air\n",
       "360       5  0.966143        also\n",
       "...     ...       ...         ...\n",
       "232       2  0.963432         way\n",
       "278       3  0.982193        well\n",
       "412       1  0.966732       would\n",
       "409       3  0.951403         yes\n",
       "376       4  0.953130           ’\n",
       "\n",
       "[175 rows x 3 columns], R=30, lambda_step=0.01, plot_opts={'xlab': 'PC1', 'ylab': 'PC2'}, topic_order=[3, 5, 1, 2, 4])"
      ]
     },
     "execution_count": 183,
     "metadata": {},
     "output_type": "execute_result"
    }
   ],
   "source": [
    "pyLDAvis.enable_notebook()\n",
    "vis = pyLDAvis.gensim_models.prepare(lda_model, corpus, id2word, mds='mmds', R=30)\n",
    "vis"
   ]
  },
  {
   "cell_type": "code",
   "execution_count": 184,
   "metadata": {},
   "outputs": [],
   "source": [
    "#pyLDAvis.save_html(vis, 'lda.html')"
   ]
  },
  {
   "attachments": {},
   "cell_type": "markdown",
   "metadata": {},
   "source": [
    "### VIEW GRAPH : http://htmlpreview.github.io/?https://github.com/abh1n4v/Infrastructure-Resilience/blob/master/Analysis/lda.html"
   ]
  },
  {
   "attachments": {},
   "cell_type": "markdown",
   "metadata": {},
   "source": [
    "Most relevant terms for each topic:\n",
    "1. Contribution, donation, collect, fisherman\n",
    "2. Donate, pray, request, rescue, urgently, relief\n",
    "3. Flood, people, heavy, someone, volunteer\n",
    "4. Please, need, good, hope, salute\n",
    "5. Thank, help, respect, heart, share"
   ]
  },
  {
   "attachments": {},
   "cell_type": "markdown",
   "metadata": {},
   "source": [
    "From the above topic model it can be seen that the major topics of discussion in the tweets taken during the Kerala Floods include heavy usage of words such as:  \n",
    "    please, thank, donate, pray, need, hope, people, request, help, share, contribute \n",
    "\n",
    "By analyzing the themes and emotions present in the tweets, we can gain a deeper understanding of how people are responding to the floods and the types of support and resources that are needed."
   ]
  },
  {
   "attachments": {},
   "cell_type": "markdown",
   "metadata": {},
   "source": [
    "Based on this topic model, it is evident that people are expressing a range of emotions.  \n",
    "\n",
    "Phrases such as 'please', 'donate' etc suggest that they are feeling a sense of **urgency and desperation.**  \n",
    "The people are trying to reach out to others for assistance or to raise awarness about the impact of the flood.  \n",
    "These words also indicate that people are actively seeking help, whether it be in the form of donations, volunteers, or other resources  \n",
    "\n",
    "At the same time, phrases such as 'thank', 'hope', 'pray' suggest that people are also expressing **gratitute and optimism** in the face of adversity.  \n",
    "They may be thanking those who have already provided assistance or expressing hope for the future; they are searching for a **silver lining** amidst chaos.  \n",
    "These words also indicate a sense of community and togetherness, as people may be coming together to support one another during a difficult time.  \n",
    "\n",
    "All these indicates a strong sense of **community resilience**, as people are coming together to support one another and work towards a common goal of recovering from the floods.  \n",
    "When people have a **positive outlook** and are able to find ways to adapt and recover from a disaster, they are more likely to be able to rebuild and move forward.\n",
    "\n",
    "In terms of infrastructure resilience, the use of words like 'need', 'share', and 'contribute' suggest that there may be gaps in the existing infrastructure or resources needed to support those affected by the floods. This highlights the importance of investing in infrastructure and resources that can help communities better prepare for and respond to disasters like floods. By identifying these gaps and needs through sentiment analysis, decision-makers can better understand where to allocate resources and improve infrastructure to support community resilience.\n"
   ]
  }
 ],
 "metadata": {
  "kernelspec": {
   "display_name": "tf-gpu",
   "language": "python",
   "name": "python3"
  },
  "language_info": {
   "codemirror_mode": {
    "name": "ipython",
    "version": 3
   },
   "file_extension": ".py",
   "mimetype": "text/x-python",
   "name": "python",
   "nbconvert_exporter": "python",
   "pygments_lexer": "ipython3",
   "version": "3.9.16"
  },
  "orig_nbformat": 4
 },
 "nbformat": 4,
 "nbformat_minor": 2
}
